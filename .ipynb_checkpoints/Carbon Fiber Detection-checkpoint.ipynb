{
 "cells": [
  {
   "cell_type": "code",
   "execution_count": 29,
   "id": "90f5fa89",
   "metadata": {},
   "outputs": [],
   "source": [
    "import numpy as np\n",
    "import cv2\n",
    "import pandas as pd\n",
    "import seaborn as sns\n",
    "from plotly.offline import download_plotlyjs, init_notebook_mode, plot,iplot\n",
    "import cufflinks as cf\n",
    "from scipy.stats import f_oneway\n",
    "import matplotlib.pyplot as plt\n",
    "from glob import glob\n",
    "import plotly.graph_objects as go"
   ]
  },
  {
   "cell_type": "code",
   "execution_count": 9,
   "id": "af5ee993",
   "metadata": {},
   "outputs": [
    {
     "data": {
      "text/html": [
       "        <script type=\"text/javascript\">\n",
       "        window.PlotlyConfig = {MathJaxConfig: 'local'};\n",
       "        if (window.MathJax) {MathJax.Hub.Config({SVG: {font: \"STIX-Web\"}});}\n",
       "        if (typeof require !== 'undefined') {\n",
       "        require.undef(\"plotly\");\n",
       "        requirejs.config({\n",
       "            paths: {\n",
       "                'plotly': ['https://cdn.plot.ly/plotly-2.9.0.min']\n",
       "            }\n",
       "        });\n",
       "        require(['plotly'], function(Plotly) {\n",
       "            window._Plotly = Plotly;\n",
       "        });\n",
       "        }\n",
       "        </script>\n",
       "        "
      ]
     },
     "metadata": {},
     "output_type": "display_data"
    }
   ],
   "source": [
    "init_notebook_mode(connected=True)"
   ]
  },
  {
   "cell_type": "code",
   "execution_count": null,
   "id": "0bffa0de",
   "metadata": {},
   "outputs": [],
   "source": []
  },
  {
   "cell_type": "code",
   "execution_count": 2,
   "id": "b30ec5df",
   "metadata": {},
   "outputs": [],
   "source": [
    "# input traj_name, output group name, version and R[innner5/medium10/outer20]\n",
    "def get_group_v_R(traj_name):\n",
    "    n1 = int(traj_name[-6])\n",
    "    n2 = traj_name[-5]\n",
    "    if n2 == 'o':\n",
    "        R = 20\n",
    "    elif n2 == 'm':\n",
    "        R = 10\n",
    "    elif n2 == 'i':\n",
    "        R = 5\n",
    "        \n",
    "    group_set, version = list(traj_name.split('-'))[0], list(traj_name.split('-'))[1]\n",
    "    group_set = list(group_set.split('test'))[-1]\n",
    "    group = list(group_set.split(','))[n1-1]\n",
    "    \n",
    "    return int(group), version, R"
   ]
  },
  {
   "cell_type": "code",
   "execution_count": 3,
   "id": "ce63fa7f",
   "metadata": {},
   "outputs": [],
   "source": [
    "# input group name, output printing temperature, printing speed, fibre feed rate and nylon feed rate\n",
    "def get_paras(group):\n",
    "    params = pd.read_excel('AP summary.xlsx', sheet_name='Sheet2')\n",
    "    p_tem = params[params['No.'] == group]['Printing Temperature'].to_numpy()[0]\n",
    "    p_speed = params[params['No.'] == group]['Printing Speed'].to_numpy()[0]\n",
    "    f_rate = params[params['No.'] == group]['Fibre Feed rate'].to_numpy()[0]\n",
    "    n_rate = params[params['No.'] == group]['Nylon Feed rate'].to_numpy()[0]\n",
    "    return p_tem, p_speed, f_rate, n_rate\n",
    "\n",
    "# get_paras(get_group_v_R('croped_test1,2,3,4-v1-1i.bmp')[0])"
   ]
  },
  {
   "cell_type": "code",
   "execution_count": 4,
   "id": "7cbc91d2",
   "metadata": {},
   "outputs": [],
   "source": [
    "# input AP sammary excel, output df {printing temperature, printing speed, fibre feed rate, nylon feed rate, R, version, APs}\n",
    "def rearragen_AP_excel(excel_name):\n",
    "    df = pd.read_excel(excel_name, sheet_name='Sheet1')\n",
    "    versions = []\n",
    "    Rs = []\n",
    "    p_tems = []\n",
    "    p_speeds = []\n",
    "    f_rates = []\n",
    "    n_rates = []\n",
    "    names = list(df['Pic_name'])\n",
    "#     AP_befores = list(df['AP_before'])\n",
    "#     AP_arcs = list(df['AP_arc'])\n",
    "#     AP_afters = list(df['AP_after'])\n",
    "    for name in names:\n",
    "        group, version, R = get_group_v_R(name)\n",
    "        versions.append(version)\n",
    "        Rs.append(R)\n",
    "        p_tem, p_speed, f_rate, n_rate = get_paras(group)\n",
    "        p_tems.append(p_tem)\n",
    "        p_speeds.append(p_speed)\n",
    "        f_rates.append(f_rate)\n",
    "        n_rates.append(n_rate)\n",
    "    scores = list(df['AP_before']) + list(df['AP_arc']) + list(df['AP_after'])\n",
    "    sections = ['AP_before'] * len(names) + ['AP_arc'] * len(names) + ['AP_after'] * len(names)\n",
    "    p_tems = p_tems *3\n",
    "    p_speeds = p_speeds *3\n",
    "    f_rates = f_rates *3\n",
    "    n_rates = n_rates *3\n",
    "    Rs = Rs *3\n",
    "    versions = versions *3\n",
    "    new_df = pd.DataFrame({'printing_temperature': p_tems, 'printing_speed': p_speeds, 'fibre_feed_rate': f_rates, \n",
    "                           'nylon_feed_rate': n_rates, 'Radius': Rs, 'Version': versions, \n",
    "                           'Score': scores, 'Section': sections})\n",
    "    return new_df\n",
    "# df = rearragen_AP_excel('AP summary.xlsx')\n",
    "# df.to_excel('ori_parameter_AP_summary.xlsx')"
   ]
  },
  {
   "cell_type": "code",
   "execution_count": 21,
   "id": "495aa657",
   "metadata": {
    "scrolled": true
   },
   "outputs": [
    {
     "data": {
      "text/html": [
       "<div>\n",
       "<style scoped>\n",
       "    .dataframe tbody tr th:only-of-type {\n",
       "        vertical-align: middle;\n",
       "    }\n",
       "\n",
       "    .dataframe tbody tr th {\n",
       "        vertical-align: top;\n",
       "    }\n",
       "\n",
       "    .dataframe thead th {\n",
       "        text-align: right;\n",
       "    }\n",
       "</style>\n",
       "<table border=\"1\" class=\"dataframe\">\n",
       "  <thead>\n",
       "    <tr style=\"text-align: right;\">\n",
       "      <th></th>\n",
       "      <th>sum_sq</th>\n",
       "      <th>df</th>\n",
       "      <th>F</th>\n",
       "      <th>PR(&gt;F)</th>\n",
       "    </tr>\n",
       "  </thead>\n",
       "  <tbody>\n",
       "    <tr>\n",
       "      <th>C(printing_temperature)</th>\n",
       "      <td>0.059224</td>\n",
       "      <td>3.0</td>\n",
       "      <td>0.825171</td>\n",
       "      <td>4.805315e-01</td>\n",
       "    </tr>\n",
       "    <tr>\n",
       "      <th>C(printing_speed)</th>\n",
       "      <td>0.030735</td>\n",
       "      <td>3.0</td>\n",
       "      <td>0.428231</td>\n",
       "      <td>7.328761e-01</td>\n",
       "    </tr>\n",
       "    <tr>\n",
       "      <th>C(fibre_feed_rate)</th>\n",
       "      <td>2.553780</td>\n",
       "      <td>3.0</td>\n",
       "      <td>35.581909</td>\n",
       "      <td>1.751643e-20</td>\n",
       "    </tr>\n",
       "    <tr>\n",
       "      <th>C(nylon_feed_rate)</th>\n",
       "      <td>0.017577</td>\n",
       "      <td>3.0</td>\n",
       "      <td>0.244904</td>\n",
       "      <td>8.649550e-01</td>\n",
       "    </tr>\n",
       "    <tr>\n",
       "      <th>C(Radius)</th>\n",
       "      <td>1.768427</td>\n",
       "      <td>2.0</td>\n",
       "      <td>36.959334</td>\n",
       "      <td>1.691927e-15</td>\n",
       "    </tr>\n",
       "    <tr>\n",
       "      <th>C(Section)</th>\n",
       "      <td>17.513222</td>\n",
       "      <td>2.0</td>\n",
       "      <td>366.018586</td>\n",
       "      <td>2.413517e-92</td>\n",
       "    </tr>\n",
       "    <tr>\n",
       "      <th>Residual</th>\n",
       "      <td>9.928440</td>\n",
       "      <td>415.0</td>\n",
       "      <td>NaN</td>\n",
       "      <td>NaN</td>\n",
       "    </tr>\n",
       "  </tbody>\n",
       "</table>\n",
       "</div>"
      ],
      "text/plain": [
       "                            sum_sq     df           F        PR(>F)\n",
       "C(printing_temperature)   0.059224    3.0    0.825171  4.805315e-01\n",
       "C(printing_speed)         0.030735    3.0    0.428231  7.328761e-01\n",
       "C(fibre_feed_rate)        2.553780    3.0   35.581909  1.751643e-20\n",
       "C(nylon_feed_rate)        0.017577    3.0    0.244904  8.649550e-01\n",
       "C(Radius)                 1.768427    2.0   36.959334  1.691927e-15\n",
       "C(Section)               17.513222    2.0  366.018586  2.413517e-92\n",
       "Residual                  9.928440  415.0         NaN           NaN"
      ]
     },
     "execution_count": 21,
     "metadata": {},
     "output_type": "execute_result"
    }
   ],
   "source": [
    "# Importing libraries\n",
    "import statsmodels.api as sm\n",
    "from statsmodels.formula.api import ols\n",
    "  \n",
    "# Performing two-way ANOVA\n",
    "model = ols(\n",
    "    'Score ~ C(printing_temperature)+C(printing_speed)+C(fibre_feed_rate)+C(nylon_feed_rate)+C(Radius)+C(Section)+\\\n",
    "    C(Section):C(printing_temperature)+C(Section):C(printing_speed)+C(Section):C(fibre_feed_rate)+C(Section):C(nylon_feed_rate)+\\\n",
    "    C(Section):C(Radius)+C(Radius):C(printing_temperature)+C(Radius):C(printing_speed)+C(Radius):C(fibre_feed_rate)+\\\n",
    "    C(Radius):C(nylon_feed_rate)+C(printing_temperature):C(printing_speed)+C(printing_temperature):C(fibre_feed_rate)+C(printing_temperature):C(nylon_feed_rate)+\\\n",
    "    C(printing_speed):C(fibre_feed_rate)+C(printing_speed):C(nylon_feed_rate)+C(fibre_feed_rate):C(nylon_feed_rate)\\\n",
    "    ', data=df).fit()\n",
    "sm.stats.anova_lm(model, typ=2)"
   ]
  },
  {
   "cell_type": "code",
   "execution_count": 56,
   "id": "28637d13",
   "metadata": {},
   "outputs": [],
   "source": [
    "df = pd.read_excel('parameter_AP_summary.xlsx', sheet_name='Sheet1')"
   ]
  },
  {
   "cell_type": "code",
   "execution_count": 57,
   "id": "6b12d1b1",
   "metadata": {
    "scrolled": false
   },
   "outputs": [
    {
     "data": {
      "text/html": [
       "<div>\n",
       "<style scoped>\n",
       "    .dataframe tbody tr th:only-of-type {\n",
       "        vertical-align: middle;\n",
       "    }\n",
       "\n",
       "    .dataframe tbody tr th {\n",
       "        vertical-align: top;\n",
       "    }\n",
       "\n",
       "    .dataframe thead th {\n",
       "        text-align: right;\n",
       "    }\n",
       "</style>\n",
       "<table border=\"1\" class=\"dataframe\">\n",
       "  <thead>\n",
       "    <tr style=\"text-align: right;\">\n",
       "      <th></th>\n",
       "      <th>Printing Temperature</th>\n",
       "      <th>Printing Speed</th>\n",
       "      <th>Fibre Feed Rate</th>\n",
       "      <th>Nylon Feed Rate</th>\n",
       "      <th>Radius</th>\n",
       "      <th>Version</th>\n",
       "      <th>Score</th>\n",
       "      <th>Section</th>\n",
       "      <th>Arc Printing Speed</th>\n",
       "      <th>Arc Fibre Feed Rate</th>\n",
       "      <th>Arc Nylon Feed Rate</th>\n",
       "    </tr>\n",
       "  </thead>\n",
       "  <tbody>\n",
       "    <tr>\n",
       "      <th>0</th>\n",
       "      <td>240</td>\n",
       "      <td>120</td>\n",
       "      <td>1.0</td>\n",
       "      <td>1.0</td>\n",
       "      <td>5</td>\n",
       "      <td>v1</td>\n",
       "      <td>0.871887</td>\n",
       "      <td>AP_before</td>\n",
       "      <td>120</td>\n",
       "      <td>0.8</td>\n",
       "      <td>0.6</td>\n",
       "    </tr>\n",
       "    <tr>\n",
       "      <th>1</th>\n",
       "      <td>240</td>\n",
       "      <td>120</td>\n",
       "      <td>1.0</td>\n",
       "      <td>1.0</td>\n",
       "      <td>10</td>\n",
       "      <td>v1</td>\n",
       "      <td>0.938283</td>\n",
       "      <td>AP_before</td>\n",
       "      <td>120</td>\n",
       "      <td>0.8</td>\n",
       "      <td>0.6</td>\n",
       "    </tr>\n",
       "    <tr>\n",
       "      <th>2</th>\n",
       "      <td>240</td>\n",
       "      <td>120</td>\n",
       "      <td>1.0</td>\n",
       "      <td>1.0</td>\n",
       "      <td>20</td>\n",
       "      <td>v1</td>\n",
       "      <td>0.958136</td>\n",
       "      <td>AP_before</td>\n",
       "      <td>120</td>\n",
       "      <td>0.8</td>\n",
       "      <td>0.6</td>\n",
       "    </tr>\n",
       "    <tr>\n",
       "      <th>3</th>\n",
       "      <td>240</td>\n",
       "      <td>120</td>\n",
       "      <td>1.0</td>\n",
       "      <td>1.0</td>\n",
       "      <td>5</td>\n",
       "      <td>v1</td>\n",
       "      <td>0.876785</td>\n",
       "      <td>AP_before</td>\n",
       "      <td>280</td>\n",
       "      <td>0.9</td>\n",
       "      <td>0.8</td>\n",
       "    </tr>\n",
       "    <tr>\n",
       "      <th>4</th>\n",
       "      <td>240</td>\n",
       "      <td>120</td>\n",
       "      <td>1.0</td>\n",
       "      <td>1.0</td>\n",
       "      <td>10</td>\n",
       "      <td>v1</td>\n",
       "      <td>0.938635</td>\n",
       "      <td>AP_before</td>\n",
       "      <td>280</td>\n",
       "      <td>0.9</td>\n",
       "      <td>0.8</td>\n",
       "    </tr>\n",
       "  </tbody>\n",
       "</table>\n",
       "</div>"
      ],
      "text/plain": [
       "   Printing Temperature  Printing Speed  Fibre Feed Rate  Nylon Feed Rate  \\\n",
       "0                   240             120              1.0              1.0   \n",
       "1                   240             120              1.0              1.0   \n",
       "2                   240             120              1.0              1.0   \n",
       "3                   240             120              1.0              1.0   \n",
       "4                   240             120              1.0              1.0   \n",
       "\n",
       "   Radius Version     Score    Section  Arc Printing Speed  \\\n",
       "0       5      v1  0.871887  AP_before                 120   \n",
       "1      10      v1  0.938283  AP_before                 120   \n",
       "2      20      v1  0.958136  AP_before                 120   \n",
       "3       5      v1  0.876785  AP_before                 280   \n",
       "4      10      v1  0.938635  AP_before                 280   \n",
       "\n",
       "   Arc Fibre Feed Rate  Arc Nylon Feed Rate  \n",
       "0                  0.8                  0.6  \n",
       "1                  0.8                  0.6  \n",
       "2                  0.8                  0.6  \n",
       "3                  0.9                  0.8  \n",
       "4                  0.9                  0.8  "
      ]
     },
     "execution_count": 57,
     "metadata": {},
     "output_type": "execute_result"
    }
   ],
   "source": [
    "df.head()"
   ]
  },
  {
   "cell_type": "code",
   "execution_count": 104,
   "id": "5f83f930",
   "metadata": {},
   "outputs": [
    {
     "data": {
      "application/vnd.plotly.v1+json": {
       "config": {
        "plotlyServerURL": "https://plot.ly"
       },
       "data": [
        {
         "contours": {
          "z": {
           "highlightcolor": "limegreen",
           "project": {
            "z": true
           },
           "show": true,
           "usecolormap": true
          }
         },
         "scene": "scene",
         "type": "surface",
         "z": [
          [
           0.9326735149704566,
           0.9100890289399223,
           0.8913922467430334,
           0.9258088558004718
          ],
          [
           0.9324918901684457,
           0.9439348999521489,
           0.9383868144177574,
           0.9494191860965184
          ],
          [
           0.9308431407375932,
           0.9517397259665267,
           0.9536567220674144,
           0.9703856112090867
          ],
          [
           0.9415910675697836,
           0.9653273517212809,
           0.9608191456279227,
           0.959153125672258
          ]
         ]
        },
        {
         "contours": {
          "z": {
           "highlightcolor": "limegreen",
           "project": {
            "z": true
           },
           "show": true,
           "usecolormap": true
          }
         },
         "scene": "scene2",
         "type": "surface",
         "z": [
          [
           0.41789290242154,
           0.3615446524104406,
           0.6191667827441163,
           0.8443525755702176
          ],
          [
           0.314253133475726,
           0.407386397732014,
           0.6005021625482013,
           0.8168328152359899
          ],
          [
           0.20146886802873867,
           0.2838987804982238,
           0.5841685793172213,
           0.7254351061171919
          ],
          [
           0.16727809100647312,
           0.30132251878472505,
           0.46904324650301926,
           0.7665538686469366
          ]
         ]
        },
        {
         "contours": {
          "z": {
           "highlightcolor": "limegreen",
           "project": {
            "z": true
           },
           "show": true,
           "usecolormap": true
          }
         },
         "scene": "scene3",
         "type": "surface",
         "z": [
          [
           0.8645090756654918,
           0.8514327107073535,
           0.9077086706712253,
           0.906628380137371
          ],
          [
           0.8585968767018749,
           0.864476271671169,
           0.8570741312323846,
           0.9023220140913618
          ],
          [
           0.8453005089701963,
           0.8695501889690375,
           0.91355835408568,
           0.9521894592095291
          ],
          [
           0.9066451605752014,
           0.9155634140521323,
           0.9511680746726836,
           0.9441806178438674
          ]
         ]
        }
       ],
       "layout": {
        "height": 400,
        "scene": {
         "domain": {
          "x": [
           0,
           0.2888888888888889
          ],
          "y": [
           0,
           1
          ]
         },
         "zaxis": {
          "nticks": 4,
          "range": [
           0.2,
           1
          ],
          "tickvals": [
           0.2,
           0.4,
           0.6,
           0.8,
           1
          ]
         }
        },
        "scene2": {
         "domain": {
          "x": [
           0.35555555555555557,
           0.6444444444444445
          ],
          "y": [
           0,
           1
          ]
         },
         "zaxis": {
          "nticks": 4,
          "range": [
           0.2,
           1
          ],
          "tickvals": [
           0.2,
           0.4,
           0.6,
           0.8,
           1
          ]
         }
        },
        "scene3": {
         "domain": {
          "x": [
           0.7111111111111111,
           1
          ],
          "y": [
           0,
           1
          ]
         },
         "zaxis": {
          "nticks": 4,
          "range": [
           0.2,
           1
          ],
          "tickvals": [
           0.2,
           0.4,
           0.6,
           0.8,
           1
          ]
         }
        },
        "template": {
         "data": {
          "bar": [
           {
            "error_x": {
             "color": "#2a3f5f"
            },
            "error_y": {
             "color": "#2a3f5f"
            },
            "marker": {
             "line": {
              "color": "#E5ECF6",
              "width": 0.5
             },
             "pattern": {
              "fillmode": "overlay",
              "size": 10,
              "solidity": 0.2
             }
            },
            "type": "bar"
           }
          ],
          "barpolar": [
           {
            "marker": {
             "line": {
              "color": "#E5ECF6",
              "width": 0.5
             },
             "pattern": {
              "fillmode": "overlay",
              "size": 10,
              "solidity": 0.2
             }
            },
            "type": "barpolar"
           }
          ],
          "carpet": [
           {
            "aaxis": {
             "endlinecolor": "#2a3f5f",
             "gridcolor": "white",
             "linecolor": "white",
             "minorgridcolor": "white",
             "startlinecolor": "#2a3f5f"
            },
            "baxis": {
             "endlinecolor": "#2a3f5f",
             "gridcolor": "white",
             "linecolor": "white",
             "minorgridcolor": "white",
             "startlinecolor": "#2a3f5f"
            },
            "type": "carpet"
           }
          ],
          "choropleth": [
           {
            "colorbar": {
             "outlinewidth": 0,
             "ticks": ""
            },
            "type": "choropleth"
           }
          ],
          "contour": [
           {
            "colorbar": {
             "outlinewidth": 0,
             "ticks": ""
            },
            "colorscale": [
             [
              0,
              "#0d0887"
             ],
             [
              0.1111111111111111,
              "#46039f"
             ],
             [
              0.2222222222222222,
              "#7201a8"
             ],
             [
              0.3333333333333333,
              "#9c179e"
             ],
             [
              0.4444444444444444,
              "#bd3786"
             ],
             [
              0.5555555555555556,
              "#d8576b"
             ],
             [
              0.6666666666666666,
              "#ed7953"
             ],
             [
              0.7777777777777778,
              "#fb9f3a"
             ],
             [
              0.8888888888888888,
              "#fdca26"
             ],
             [
              1,
              "#f0f921"
             ]
            ],
            "type": "contour"
           }
          ],
          "contourcarpet": [
           {
            "colorbar": {
             "outlinewidth": 0,
             "ticks": ""
            },
            "type": "contourcarpet"
           }
          ],
          "heatmap": [
           {
            "colorbar": {
             "outlinewidth": 0,
             "ticks": ""
            },
            "colorscale": [
             [
              0,
              "#0d0887"
             ],
             [
              0.1111111111111111,
              "#46039f"
             ],
             [
              0.2222222222222222,
              "#7201a8"
             ],
             [
              0.3333333333333333,
              "#9c179e"
             ],
             [
              0.4444444444444444,
              "#bd3786"
             ],
             [
              0.5555555555555556,
              "#d8576b"
             ],
             [
              0.6666666666666666,
              "#ed7953"
             ],
             [
              0.7777777777777778,
              "#fb9f3a"
             ],
             [
              0.8888888888888888,
              "#fdca26"
             ],
             [
              1,
              "#f0f921"
             ]
            ],
            "type": "heatmap"
           }
          ],
          "heatmapgl": [
           {
            "colorbar": {
             "outlinewidth": 0,
             "ticks": ""
            },
            "colorscale": [
             [
              0,
              "#0d0887"
             ],
             [
              0.1111111111111111,
              "#46039f"
             ],
             [
              0.2222222222222222,
              "#7201a8"
             ],
             [
              0.3333333333333333,
              "#9c179e"
             ],
             [
              0.4444444444444444,
              "#bd3786"
             ],
             [
              0.5555555555555556,
              "#d8576b"
             ],
             [
              0.6666666666666666,
              "#ed7953"
             ],
             [
              0.7777777777777778,
              "#fb9f3a"
             ],
             [
              0.8888888888888888,
              "#fdca26"
             ],
             [
              1,
              "#f0f921"
             ]
            ],
            "type": "heatmapgl"
           }
          ],
          "histogram": [
           {
            "marker": {
             "pattern": {
              "fillmode": "overlay",
              "size": 10,
              "solidity": 0.2
             }
            },
            "type": "histogram"
           }
          ],
          "histogram2d": [
           {
            "colorbar": {
             "outlinewidth": 0,
             "ticks": ""
            },
            "colorscale": [
             [
              0,
              "#0d0887"
             ],
             [
              0.1111111111111111,
              "#46039f"
             ],
             [
              0.2222222222222222,
              "#7201a8"
             ],
             [
              0.3333333333333333,
              "#9c179e"
             ],
             [
              0.4444444444444444,
              "#bd3786"
             ],
             [
              0.5555555555555556,
              "#d8576b"
             ],
             [
              0.6666666666666666,
              "#ed7953"
             ],
             [
              0.7777777777777778,
              "#fb9f3a"
             ],
             [
              0.8888888888888888,
              "#fdca26"
             ],
             [
              1,
              "#f0f921"
             ]
            ],
            "type": "histogram2d"
           }
          ],
          "histogram2dcontour": [
           {
            "colorbar": {
             "outlinewidth": 0,
             "ticks": ""
            },
            "colorscale": [
             [
              0,
              "#0d0887"
             ],
             [
              0.1111111111111111,
              "#46039f"
             ],
             [
              0.2222222222222222,
              "#7201a8"
             ],
             [
              0.3333333333333333,
              "#9c179e"
             ],
             [
              0.4444444444444444,
              "#bd3786"
             ],
             [
              0.5555555555555556,
              "#d8576b"
             ],
             [
              0.6666666666666666,
              "#ed7953"
             ],
             [
              0.7777777777777778,
              "#fb9f3a"
             ],
             [
              0.8888888888888888,
              "#fdca26"
             ],
             [
              1,
              "#f0f921"
             ]
            ],
            "type": "histogram2dcontour"
           }
          ],
          "mesh3d": [
           {
            "colorbar": {
             "outlinewidth": 0,
             "ticks": ""
            },
            "type": "mesh3d"
           }
          ],
          "parcoords": [
           {
            "line": {
             "colorbar": {
              "outlinewidth": 0,
              "ticks": ""
             }
            },
            "type": "parcoords"
           }
          ],
          "pie": [
           {
            "automargin": true,
            "type": "pie"
           }
          ],
          "scatter": [
           {
            "marker": {
             "colorbar": {
              "outlinewidth": 0,
              "ticks": ""
             }
            },
            "type": "scatter"
           }
          ],
          "scatter3d": [
           {
            "line": {
             "colorbar": {
              "outlinewidth": 0,
              "ticks": ""
             }
            },
            "marker": {
             "colorbar": {
              "outlinewidth": 0,
              "ticks": ""
             }
            },
            "type": "scatter3d"
           }
          ],
          "scattercarpet": [
           {
            "marker": {
             "colorbar": {
              "outlinewidth": 0,
              "ticks": ""
             }
            },
            "type": "scattercarpet"
           }
          ],
          "scattergeo": [
           {
            "marker": {
             "colorbar": {
              "outlinewidth": 0,
              "ticks": ""
             }
            },
            "type": "scattergeo"
           }
          ],
          "scattergl": [
           {
            "marker": {
             "colorbar": {
              "outlinewidth": 0,
              "ticks": ""
             }
            },
            "type": "scattergl"
           }
          ],
          "scattermapbox": [
           {
            "marker": {
             "colorbar": {
              "outlinewidth": 0,
              "ticks": ""
             }
            },
            "type": "scattermapbox"
           }
          ],
          "scatterpolar": [
           {
            "marker": {
             "colorbar": {
              "outlinewidth": 0,
              "ticks": ""
             }
            },
            "type": "scatterpolar"
           }
          ],
          "scatterpolargl": [
           {
            "marker": {
             "colorbar": {
              "outlinewidth": 0,
              "ticks": ""
             }
            },
            "type": "scatterpolargl"
           }
          ],
          "scatterternary": [
           {
            "marker": {
             "colorbar": {
              "outlinewidth": 0,
              "ticks": ""
             }
            },
            "type": "scatterternary"
           }
          ],
          "surface": [
           {
            "colorbar": {
             "outlinewidth": 0,
             "ticks": ""
            },
            "colorscale": [
             [
              0,
              "#0d0887"
             ],
             [
              0.1111111111111111,
              "#46039f"
             ],
             [
              0.2222222222222222,
              "#7201a8"
             ],
             [
              0.3333333333333333,
              "#9c179e"
             ],
             [
              0.4444444444444444,
              "#bd3786"
             ],
             [
              0.5555555555555556,
              "#d8576b"
             ],
             [
              0.6666666666666666,
              "#ed7953"
             ],
             [
              0.7777777777777778,
              "#fb9f3a"
             ],
             [
              0.8888888888888888,
              "#fdca26"
             ],
             [
              1,
              "#f0f921"
             ]
            ],
            "type": "surface"
           }
          ],
          "table": [
           {
            "cells": {
             "fill": {
              "color": "#EBF0F8"
             },
             "line": {
              "color": "white"
             }
            },
            "header": {
             "fill": {
              "color": "#C8D4E3"
             },
             "line": {
              "color": "white"
             }
            },
            "type": "table"
           }
          ]
         },
         "layout": {
          "annotationdefaults": {
           "arrowcolor": "#2a3f5f",
           "arrowhead": 0,
           "arrowwidth": 1
          },
          "autotypenumbers": "strict",
          "coloraxis": {
           "colorbar": {
            "outlinewidth": 0,
            "ticks": ""
           }
          },
          "colorscale": {
           "diverging": [
            [
             0,
             "#8e0152"
            ],
            [
             0.1,
             "#c51b7d"
            ],
            [
             0.2,
             "#de77ae"
            ],
            [
             0.3,
             "#f1b6da"
            ],
            [
             0.4,
             "#fde0ef"
            ],
            [
             0.5,
             "#f7f7f7"
            ],
            [
             0.6,
             "#e6f5d0"
            ],
            [
             0.7,
             "#b8e186"
            ],
            [
             0.8,
             "#7fbc41"
            ],
            [
             0.9,
             "#4d9221"
            ],
            [
             1,
             "#276419"
            ]
           ],
           "sequential": [
            [
             0,
             "#0d0887"
            ],
            [
             0.1111111111111111,
             "#46039f"
            ],
            [
             0.2222222222222222,
             "#7201a8"
            ],
            [
             0.3333333333333333,
             "#9c179e"
            ],
            [
             0.4444444444444444,
             "#bd3786"
            ],
            [
             0.5555555555555556,
             "#d8576b"
            ],
            [
             0.6666666666666666,
             "#ed7953"
            ],
            [
             0.7777777777777778,
             "#fb9f3a"
            ],
            [
             0.8888888888888888,
             "#fdca26"
            ],
            [
             1,
             "#f0f921"
            ]
           ],
           "sequentialminus": [
            [
             0,
             "#0d0887"
            ],
            [
             0.1111111111111111,
             "#46039f"
            ],
            [
             0.2222222222222222,
             "#7201a8"
            ],
            [
             0.3333333333333333,
             "#9c179e"
            ],
            [
             0.4444444444444444,
             "#bd3786"
            ],
            [
             0.5555555555555556,
             "#d8576b"
            ],
            [
             0.6666666666666666,
             "#ed7953"
            ],
            [
             0.7777777777777778,
             "#fb9f3a"
            ],
            [
             0.8888888888888888,
             "#fdca26"
            ],
            [
             1,
             "#f0f921"
            ]
           ]
          },
          "colorway": [
           "#636efa",
           "#EF553B",
           "#00cc96",
           "#ab63fa",
           "#FFA15A",
           "#19d3f3",
           "#FF6692",
           "#B6E880",
           "#FF97FF",
           "#FECB52"
          ],
          "font": {
           "color": "#2a3f5f"
          },
          "geo": {
           "bgcolor": "white",
           "lakecolor": "white",
           "landcolor": "#E5ECF6",
           "showlakes": true,
           "showland": true,
           "subunitcolor": "white"
          },
          "hoverlabel": {
           "align": "left"
          },
          "hovermode": "closest",
          "mapbox": {
           "style": "light"
          },
          "paper_bgcolor": "white",
          "plot_bgcolor": "#E5ECF6",
          "polar": {
           "angularaxis": {
            "gridcolor": "white",
            "linecolor": "white",
            "ticks": ""
           },
           "bgcolor": "#E5ECF6",
           "radialaxis": {
            "gridcolor": "white",
            "linecolor": "white",
            "ticks": ""
           }
          },
          "scene": {
           "xaxis": {
            "backgroundcolor": "#E5ECF6",
            "gridcolor": "white",
            "gridwidth": 2,
            "linecolor": "white",
            "showbackground": true,
            "ticks": "",
            "zerolinecolor": "white"
           },
           "yaxis": {
            "backgroundcolor": "#E5ECF6",
            "gridcolor": "white",
            "gridwidth": 2,
            "linecolor": "white",
            "showbackground": true,
            "ticks": "",
            "zerolinecolor": "white"
           },
           "zaxis": {
            "backgroundcolor": "#E5ECF6",
            "gridcolor": "white",
            "gridwidth": 2,
            "linecolor": "white",
            "showbackground": true,
            "ticks": "",
            "zerolinecolor": "white"
           }
          },
          "shapedefaults": {
           "line": {
            "color": "#2a3f5f"
           }
          },
          "ternary": {
           "aaxis": {
            "gridcolor": "white",
            "linecolor": "white",
            "ticks": ""
           },
           "baxis": {
            "gridcolor": "white",
            "linecolor": "white",
            "ticks": ""
           },
           "bgcolor": "#E5ECF6",
           "caxis": {
            "gridcolor": "white",
            "linecolor": "white",
            "ticks": ""
           }
          },
          "title": {
           "x": 0.05
          },
          "xaxis": {
           "automargin": true,
           "gridcolor": "white",
           "linecolor": "white",
           "ticks": "",
           "title": {
            "standoff": 15
           },
           "zerolinecolor": "white",
           "zerolinewidth": 2
          },
          "yaxis": {
           "automargin": true,
           "gridcolor": "white",
           "linecolor": "white",
           "ticks": "",
           "title": {
            "standoff": 15
           },
           "zerolinecolor": "white",
           "zerolinewidth": 2
          }
         }
        },
        "title": {
         "text": "3D subplots with different colorscales"
        },
        "width": 1000
       }
      },
      "text/html": [
       "<div>                            <div id=\"6b45637e-2191-46a6-944e-e90f28a2d98b\" class=\"plotly-graph-div\" style=\"height:400px; width:1000px;\"></div>            <script type=\"text/javascript\">                require([\"plotly\"], function(Plotly) {                    window.PLOTLYENV=window.PLOTLYENV || {};                                    if (document.getElementById(\"6b45637e-2191-46a6-944e-e90f28a2d98b\")) {                    Plotly.newPlot(                        \"6b45637e-2191-46a6-944e-e90f28a2d98b\",                        [{\"z\":[[0.9326735149704566,0.9100890289399223,0.8913922467430334,0.9258088558004718],[0.9324918901684457,0.9439348999521489,0.9383868144177574,0.9494191860965184],[0.9308431407375932,0.9517397259665267,0.9536567220674144,0.9703856112090867],[0.9415910675697836,0.9653273517212809,0.9608191456279227,0.959153125672258]],\"type\":\"surface\",\"scene\":\"scene\",\"contours\":{\"z\":{\"project\":{\"z\":true},\"highlightcolor\":\"limegreen\",\"show\":true,\"usecolormap\":true}}},{\"z\":[[0.41789290242154,0.3615446524104406,0.6191667827441163,0.8443525755702176],[0.314253133475726,0.407386397732014,0.6005021625482013,0.8168328152359899],[0.20146886802873867,0.2838987804982238,0.5841685793172213,0.7254351061171919],[0.16727809100647312,0.30132251878472505,0.46904324650301926,0.7665538686469366]],\"type\":\"surface\",\"scene\":\"scene2\",\"contours\":{\"z\":{\"project\":{\"z\":true},\"highlightcolor\":\"limegreen\",\"show\":true,\"usecolormap\":true}}},{\"z\":[[0.8645090756654918,0.8514327107073535,0.9077086706712253,0.906628380137371],[0.8585968767018749,0.864476271671169,0.8570741312323846,0.9023220140913618],[0.8453005089701963,0.8695501889690375,0.91355835408568,0.9521894592095291],[0.9066451605752014,0.9155634140521323,0.9511680746726836,0.9441806178438674]],\"type\":\"surface\",\"scene\":\"scene3\",\"contours\":{\"z\":{\"project\":{\"z\":true},\"highlightcolor\":\"limegreen\",\"show\":true,\"usecolormap\":true}}}],                        {\"template\":{\"data\":{\"bar\":[{\"error_x\":{\"color\":\"#2a3f5f\"},\"error_y\":{\"color\":\"#2a3f5f\"},\"marker\":{\"line\":{\"color\":\"#E5ECF6\",\"width\":0.5},\"pattern\":{\"fillmode\":\"overlay\",\"size\":10,\"solidity\":0.2}},\"type\":\"bar\"}],\"barpolar\":[{\"marker\":{\"line\":{\"color\":\"#E5ECF6\",\"width\":0.5},\"pattern\":{\"fillmode\":\"overlay\",\"size\":10,\"solidity\":0.2}},\"type\":\"barpolar\"}],\"carpet\":[{\"aaxis\":{\"endlinecolor\":\"#2a3f5f\",\"gridcolor\":\"white\",\"linecolor\":\"white\",\"minorgridcolor\":\"white\",\"startlinecolor\":\"#2a3f5f\"},\"baxis\":{\"endlinecolor\":\"#2a3f5f\",\"gridcolor\":\"white\",\"linecolor\":\"white\",\"minorgridcolor\":\"white\",\"startlinecolor\":\"#2a3f5f\"},\"type\":\"carpet\"}],\"choropleth\":[{\"colorbar\":{\"outlinewidth\":0,\"ticks\":\"\"},\"type\":\"choropleth\"}],\"contour\":[{\"colorbar\":{\"outlinewidth\":0,\"ticks\":\"\"},\"colorscale\":[[0.0,\"#0d0887\"],[0.1111111111111111,\"#46039f\"],[0.2222222222222222,\"#7201a8\"],[0.3333333333333333,\"#9c179e\"],[0.4444444444444444,\"#bd3786\"],[0.5555555555555556,\"#d8576b\"],[0.6666666666666666,\"#ed7953\"],[0.7777777777777778,\"#fb9f3a\"],[0.8888888888888888,\"#fdca26\"],[1.0,\"#f0f921\"]],\"type\":\"contour\"}],\"contourcarpet\":[{\"colorbar\":{\"outlinewidth\":0,\"ticks\":\"\"},\"type\":\"contourcarpet\"}],\"heatmap\":[{\"colorbar\":{\"outlinewidth\":0,\"ticks\":\"\"},\"colorscale\":[[0.0,\"#0d0887\"],[0.1111111111111111,\"#46039f\"],[0.2222222222222222,\"#7201a8\"],[0.3333333333333333,\"#9c179e\"],[0.4444444444444444,\"#bd3786\"],[0.5555555555555556,\"#d8576b\"],[0.6666666666666666,\"#ed7953\"],[0.7777777777777778,\"#fb9f3a\"],[0.8888888888888888,\"#fdca26\"],[1.0,\"#f0f921\"]],\"type\":\"heatmap\"}],\"heatmapgl\":[{\"colorbar\":{\"outlinewidth\":0,\"ticks\":\"\"},\"colorscale\":[[0.0,\"#0d0887\"],[0.1111111111111111,\"#46039f\"],[0.2222222222222222,\"#7201a8\"],[0.3333333333333333,\"#9c179e\"],[0.4444444444444444,\"#bd3786\"],[0.5555555555555556,\"#d8576b\"],[0.6666666666666666,\"#ed7953\"],[0.7777777777777778,\"#fb9f3a\"],[0.8888888888888888,\"#fdca26\"],[1.0,\"#f0f921\"]],\"type\":\"heatmapgl\"}],\"histogram\":[{\"marker\":{\"pattern\":{\"fillmode\":\"overlay\",\"size\":10,\"solidity\":0.2}},\"type\":\"histogram\"}],\"histogram2d\":[{\"colorbar\":{\"outlinewidth\":0,\"ticks\":\"\"},\"colorscale\":[[0.0,\"#0d0887\"],[0.1111111111111111,\"#46039f\"],[0.2222222222222222,\"#7201a8\"],[0.3333333333333333,\"#9c179e\"],[0.4444444444444444,\"#bd3786\"],[0.5555555555555556,\"#d8576b\"],[0.6666666666666666,\"#ed7953\"],[0.7777777777777778,\"#fb9f3a\"],[0.8888888888888888,\"#fdca26\"],[1.0,\"#f0f921\"]],\"type\":\"histogram2d\"}],\"histogram2dcontour\":[{\"colorbar\":{\"outlinewidth\":0,\"ticks\":\"\"},\"colorscale\":[[0.0,\"#0d0887\"],[0.1111111111111111,\"#46039f\"],[0.2222222222222222,\"#7201a8\"],[0.3333333333333333,\"#9c179e\"],[0.4444444444444444,\"#bd3786\"],[0.5555555555555556,\"#d8576b\"],[0.6666666666666666,\"#ed7953\"],[0.7777777777777778,\"#fb9f3a\"],[0.8888888888888888,\"#fdca26\"],[1.0,\"#f0f921\"]],\"type\":\"histogram2dcontour\"}],\"mesh3d\":[{\"colorbar\":{\"outlinewidth\":0,\"ticks\":\"\"},\"type\":\"mesh3d\"}],\"parcoords\":[{\"line\":{\"colorbar\":{\"outlinewidth\":0,\"ticks\":\"\"}},\"type\":\"parcoords\"}],\"pie\":[{\"automargin\":true,\"type\":\"pie\"}],\"scatter\":[{\"marker\":{\"colorbar\":{\"outlinewidth\":0,\"ticks\":\"\"}},\"type\":\"scatter\"}],\"scatter3d\":[{\"line\":{\"colorbar\":{\"outlinewidth\":0,\"ticks\":\"\"}},\"marker\":{\"colorbar\":{\"outlinewidth\":0,\"ticks\":\"\"}},\"type\":\"scatter3d\"}],\"scattercarpet\":[{\"marker\":{\"colorbar\":{\"outlinewidth\":0,\"ticks\":\"\"}},\"type\":\"scattercarpet\"}],\"scattergeo\":[{\"marker\":{\"colorbar\":{\"outlinewidth\":0,\"ticks\":\"\"}},\"type\":\"scattergeo\"}],\"scattergl\":[{\"marker\":{\"colorbar\":{\"outlinewidth\":0,\"ticks\":\"\"}},\"type\":\"scattergl\"}],\"scattermapbox\":[{\"marker\":{\"colorbar\":{\"outlinewidth\":0,\"ticks\":\"\"}},\"type\":\"scattermapbox\"}],\"scatterpolar\":[{\"marker\":{\"colorbar\":{\"outlinewidth\":0,\"ticks\":\"\"}},\"type\":\"scatterpolar\"}],\"scatterpolargl\":[{\"marker\":{\"colorbar\":{\"outlinewidth\":0,\"ticks\":\"\"}},\"type\":\"scatterpolargl\"}],\"scatterternary\":[{\"marker\":{\"colorbar\":{\"outlinewidth\":0,\"ticks\":\"\"}},\"type\":\"scatterternary\"}],\"surface\":[{\"colorbar\":{\"outlinewidth\":0,\"ticks\":\"\"},\"colorscale\":[[0.0,\"#0d0887\"],[0.1111111111111111,\"#46039f\"],[0.2222222222222222,\"#7201a8\"],[0.3333333333333333,\"#9c179e\"],[0.4444444444444444,\"#bd3786\"],[0.5555555555555556,\"#d8576b\"],[0.6666666666666666,\"#ed7953\"],[0.7777777777777778,\"#fb9f3a\"],[0.8888888888888888,\"#fdca26\"],[1.0,\"#f0f921\"]],\"type\":\"surface\"}],\"table\":[{\"cells\":{\"fill\":{\"color\":\"#EBF0F8\"},\"line\":{\"color\":\"white\"}},\"header\":{\"fill\":{\"color\":\"#C8D4E3\"},\"line\":{\"color\":\"white\"}},\"type\":\"table\"}]},\"layout\":{\"annotationdefaults\":{\"arrowcolor\":\"#2a3f5f\",\"arrowhead\":0,\"arrowwidth\":1},\"autotypenumbers\":\"strict\",\"coloraxis\":{\"colorbar\":{\"outlinewidth\":0,\"ticks\":\"\"}},\"colorscale\":{\"diverging\":[[0,\"#8e0152\"],[0.1,\"#c51b7d\"],[0.2,\"#de77ae\"],[0.3,\"#f1b6da\"],[0.4,\"#fde0ef\"],[0.5,\"#f7f7f7\"],[0.6,\"#e6f5d0\"],[0.7,\"#b8e186\"],[0.8,\"#7fbc41\"],[0.9,\"#4d9221\"],[1,\"#276419\"]],\"sequential\":[[0.0,\"#0d0887\"],[0.1111111111111111,\"#46039f\"],[0.2222222222222222,\"#7201a8\"],[0.3333333333333333,\"#9c179e\"],[0.4444444444444444,\"#bd3786\"],[0.5555555555555556,\"#d8576b\"],[0.6666666666666666,\"#ed7953\"],[0.7777777777777778,\"#fb9f3a\"],[0.8888888888888888,\"#fdca26\"],[1.0,\"#f0f921\"]],\"sequentialminus\":[[0.0,\"#0d0887\"],[0.1111111111111111,\"#46039f\"],[0.2222222222222222,\"#7201a8\"],[0.3333333333333333,\"#9c179e\"],[0.4444444444444444,\"#bd3786\"],[0.5555555555555556,\"#d8576b\"],[0.6666666666666666,\"#ed7953\"],[0.7777777777777778,\"#fb9f3a\"],[0.8888888888888888,\"#fdca26\"],[1.0,\"#f0f921\"]]},\"colorway\":[\"#636efa\",\"#EF553B\",\"#00cc96\",\"#ab63fa\",\"#FFA15A\",\"#19d3f3\",\"#FF6692\",\"#B6E880\",\"#FF97FF\",\"#FECB52\"],\"font\":{\"color\":\"#2a3f5f\"},\"geo\":{\"bgcolor\":\"white\",\"lakecolor\":\"white\",\"landcolor\":\"#E5ECF6\",\"showlakes\":true,\"showland\":true,\"subunitcolor\":\"white\"},\"hoverlabel\":{\"align\":\"left\"},\"hovermode\":\"closest\",\"mapbox\":{\"style\":\"light\"},\"paper_bgcolor\":\"white\",\"plot_bgcolor\":\"#E5ECF6\",\"polar\":{\"angularaxis\":{\"gridcolor\":\"white\",\"linecolor\":\"white\",\"ticks\":\"\"},\"bgcolor\":\"#E5ECF6\",\"radialaxis\":{\"gridcolor\":\"white\",\"linecolor\":\"white\",\"ticks\":\"\"}},\"scene\":{\"xaxis\":{\"backgroundcolor\":\"#E5ECF6\",\"gridcolor\":\"white\",\"gridwidth\":2,\"linecolor\":\"white\",\"showbackground\":true,\"ticks\":\"\",\"zerolinecolor\":\"white\"},\"yaxis\":{\"backgroundcolor\":\"#E5ECF6\",\"gridcolor\":\"white\",\"gridwidth\":2,\"linecolor\":\"white\",\"showbackground\":true,\"ticks\":\"\",\"zerolinecolor\":\"white\"},\"zaxis\":{\"backgroundcolor\":\"#E5ECF6\",\"gridcolor\":\"white\",\"gridwidth\":2,\"linecolor\":\"white\",\"showbackground\":true,\"ticks\":\"\",\"zerolinecolor\":\"white\"}},\"shapedefaults\":{\"line\":{\"color\":\"#2a3f5f\"}},\"ternary\":{\"aaxis\":{\"gridcolor\":\"white\",\"linecolor\":\"white\",\"ticks\":\"\"},\"baxis\":{\"gridcolor\":\"white\",\"linecolor\":\"white\",\"ticks\":\"\"},\"bgcolor\":\"#E5ECF6\",\"caxis\":{\"gridcolor\":\"white\",\"linecolor\":\"white\",\"ticks\":\"\"}},\"title\":{\"x\":0.05},\"xaxis\":{\"automargin\":true,\"gridcolor\":\"white\",\"linecolor\":\"white\",\"ticks\":\"\",\"title\":{\"standoff\":15},\"zerolinecolor\":\"white\",\"zerolinewidth\":2},\"yaxis\":{\"automargin\":true,\"gridcolor\":\"white\",\"linecolor\":\"white\",\"ticks\":\"\",\"title\":{\"standoff\":15},\"zerolinecolor\":\"white\",\"zerolinewidth\":2}}},\"scene\":{\"domain\":{\"x\":[0.0,0.2888888888888889],\"y\":[0.0,1.0]},\"zaxis\":{\"nticks\":4,\"range\":[0.2,1],\"tickvals\":[0.2,0.4,0.6,0.8,1]}},\"scene2\":{\"domain\":{\"x\":[0.35555555555555557,0.6444444444444445],\"y\":[0.0,1.0]},\"zaxis\":{\"nticks\":4,\"range\":[0.2,1],\"tickvals\":[0.2,0.4,0.6,0.8,1]}},\"scene3\":{\"domain\":{\"x\":[0.7111111111111111,1.0],\"y\":[0.0,1.0]},\"zaxis\":{\"nticks\":4,\"range\":[0.2,1],\"tickvals\":[0.2,0.4,0.6,0.8,1]}},\"title\":{\"text\":\"3D subplots with different colorscales\"},\"height\":400,\"width\":1000},                        {\"responsive\": true}                    ).then(function(){\n",
       "                            \n",
       "var gd = document.getElementById('6b45637e-2191-46a6-944e-e90f28a2d98b');\n",
       "var x = new MutationObserver(function (mutations, observer) {{\n",
       "        var display = window.getComputedStyle(gd).display;\n",
       "        if (!display || display === 'none') {{\n",
       "            console.log([gd, 'removed!']);\n",
       "            Plotly.purge(gd);\n",
       "            observer.disconnect();\n",
       "        }}\n",
       "}});\n",
       "\n",
       "// Listen for the removal of the full notebook cells\n",
       "var notebookContainer = gd.closest('#notebook-container');\n",
       "if (notebookContainer) {{\n",
       "    x.observe(notebookContainer, {childList: true});\n",
       "}}\n",
       "\n",
       "// Listen for the clearing of the current output cell\n",
       "var outputEl = gd.closest('.output');\n",
       "if (outputEl) {{\n",
       "    x.observe(outputEl, {childList: true});\n",
       "}}\n",
       "\n",
       "                        })                };                });            </script>        </div>"
      ]
     },
     "metadata": {},
     "output_type": "display_data"
    }
   ],
   "source": [
    "import plotly.graph_objects as go\n",
    "from plotly.subplots import make_subplots\n",
    "\n",
    "import numpy as np\n",
    "\n",
    "# Initialize figure with 4 3D subplots\n",
    "fig = make_subplots(\n",
    "    rows=1, cols=3,\n",
    "    specs=[[{'type': 'surface'}, {'type': 'surface'}, {'type': 'surface'}]])\n",
    "\n",
    "# Generate data\n",
    "# factor1 = 'Arc Printing Speed'\n",
    "# factor2 = 'Arc Fibre Feed Rate'\n",
    "\n",
    "mean_df = df[df['Section']=='AP_before'].groupby([factor1,factor2]).mean().reset_index()\n",
    "flights = mean_df.pivot(factor1,factor2, \"Score\")\n",
    "fig.add_trace(go.Surface(z=flights.values, ),#colorscale='Viridis',\n",
    "             row=1, col=1)\n",
    "\n",
    "mean_df = df[df['Section']=='AP_arc'].groupby([factor1,factor2]).mean().reset_index()\n",
    "flights = mean_df.pivot(factor1,factor2, \"Score\")\n",
    "fig.add_trace(go.Surface(z=flights.values, ),#colorscale='Viridis',\n",
    "             row=1, col=2)\n",
    "\n",
    "mean_df = df[df['Section']=='AP_after'].groupby([factor1,factor2]).mean().reset_index()\n",
    "flights = mean_df.pivot(factor1,factor2, \"Score\")\n",
    "fig.add_trace(go.Surface(z=flights.values, ),#colorscale='Viridis',\n",
    "             row=1, col=3)\n",
    "\n",
    "# Update xaxis properties\n",
    "# fig.update_xaxes(title_text=\"Arc Printing Speed\", row=1, col=1)\n",
    "# fig.update_xaxes(title_text=\"Arc Printing Speed\", range=[10, 50], row=1, col=2)\n",
    "# fig.update_xaxes(title_text=\"Arc Printing Speed\", showgrid=False, row=1, col=3)\n",
    "\n",
    "# # Update yaxis properties\n",
    "# fig.update_yaxes(title_text=\"Arc Fibre Feed Rate\", row=1, col=1)\n",
    "# fig.update_yaxes(title_text=\"Arc Fibre Feed Rate\", range=[40, 80], row=1, col=2)\n",
    "# fig.update_yaxes(title_text=\"Arc Fibre Feed Rate\", showgrid=False, row=1, col=3)\n",
    "\n",
    "# Update yaxis properties\n",
    "# fig.update_zaxes(title_text=\"AP Value\", range=[0.2, 1], row=1, col=1)\n",
    "# fig.update_zaxes(title_text=\"AP Value\", range=[0.2, 1], row=1, col=2)\n",
    "# fig.update_zaxes(title_text=\"AP Value\", range=[0.2, 1], row=1, col=3)\n",
    "\n",
    "# fig.update_layout(zaxis=dict(tickvals=[0.2, 0.4, 0.6, 0.8, 1]),\n",
    "#                  zaxis2=dict(tickvals=[0.2, 0.4, 0.6, 0.8, 1]),\n",
    "#                  zaxis3=dict(tickvals=[0.2, 0.4, 0.6, 0.8, 1]),\n",
    "#                  )\n",
    "\n",
    "fig.update_layout(scene = dict(zaxis = dict(nticks=4, range=[0.2,1],tickvals=[0.2, 0.4, 0.6, 0.8, 1]),),)\n",
    "fig.update_layout(scene2 = dict(zaxis = dict(nticks=4, range=[0.2,1],tickvals=[0.2, 0.4, 0.6, 0.8, 1]),),)\n",
    "fig.update_layout(scene3 = dict(zaxis = dict(nticks=4, range=[0.2,1],tickvals=[0.2, 0.4, 0.6, 0.8, 1]),),)\n",
    "\n",
    "fig.update_traces(contours_z=dict(show=True, usecolormap=True,\n",
    "                                  highlightcolor=\"limegreen\", project_z=True))\n",
    "fig.update_layout(\n",
    "    title_text='3D subplots with different colorscales',\n",
    "    height=400,\n",
    "    width=1000\n",
    ")\n",
    "\n",
    "fig.show()"
   ]
  },
  {
   "cell_type": "code",
   "execution_count": 95,
   "id": "4a626ab8",
   "metadata": {},
   "outputs": [
    {
     "data": {
      "application/vnd.plotly.v1+json": {
       "config": {
        "plotlyServerURL": "https://plot.ly"
       },
       "data": [
        {
         "contours": {
          "z": {
           "highlightcolor": "limegreen",
           "project": {
            "z": true
           },
           "show": true,
           "usecolormap": true
          }
         },
         "type": "surface",
         "z": [
          [
           0.8645090756654918,
           0.8514327107073535,
           0.9077086706712253,
           0.906628380137371
          ],
          [
           0.8585968767018749,
           0.864476271671169,
           0.8570741312323846,
           0.9023220140913618
          ],
          [
           0.8453005089701963,
           0.8695501889690375,
           0.91355835408568,
           0.9521894592095291
          ],
          [
           0.9066451605752014,
           0.9155634140521323,
           0.9511680746726836,
           0.9441806178438674
          ]
         ]
        }
       ],
       "layout": {
        "autosize": false,
        "height": 500,
        "margin": {
         "b": 65,
         "l": 65,
         "r": 50,
         "t": 90
        },
        "template": {
         "data": {
          "bar": [
           {
            "error_x": {
             "color": "#2a3f5f"
            },
            "error_y": {
             "color": "#2a3f5f"
            },
            "marker": {
             "line": {
              "color": "#E5ECF6",
              "width": 0.5
             },
             "pattern": {
              "fillmode": "overlay",
              "size": 10,
              "solidity": 0.2
             }
            },
            "type": "bar"
           }
          ],
          "barpolar": [
           {
            "marker": {
             "line": {
              "color": "#E5ECF6",
              "width": 0.5
             },
             "pattern": {
              "fillmode": "overlay",
              "size": 10,
              "solidity": 0.2
             }
            },
            "type": "barpolar"
           }
          ],
          "carpet": [
           {
            "aaxis": {
             "endlinecolor": "#2a3f5f",
             "gridcolor": "white",
             "linecolor": "white",
             "minorgridcolor": "white",
             "startlinecolor": "#2a3f5f"
            },
            "baxis": {
             "endlinecolor": "#2a3f5f",
             "gridcolor": "white",
             "linecolor": "white",
             "minorgridcolor": "white",
             "startlinecolor": "#2a3f5f"
            },
            "type": "carpet"
           }
          ],
          "choropleth": [
           {
            "colorbar": {
             "outlinewidth": 0,
             "ticks": ""
            },
            "type": "choropleth"
           }
          ],
          "contour": [
           {
            "colorbar": {
             "outlinewidth": 0,
             "ticks": ""
            },
            "colorscale": [
             [
              0,
              "#0d0887"
             ],
             [
              0.1111111111111111,
              "#46039f"
             ],
             [
              0.2222222222222222,
              "#7201a8"
             ],
             [
              0.3333333333333333,
              "#9c179e"
             ],
             [
              0.4444444444444444,
              "#bd3786"
             ],
             [
              0.5555555555555556,
              "#d8576b"
             ],
             [
              0.6666666666666666,
              "#ed7953"
             ],
             [
              0.7777777777777778,
              "#fb9f3a"
             ],
             [
              0.8888888888888888,
              "#fdca26"
             ],
             [
              1,
              "#f0f921"
             ]
            ],
            "type": "contour"
           }
          ],
          "contourcarpet": [
           {
            "colorbar": {
             "outlinewidth": 0,
             "ticks": ""
            },
            "type": "contourcarpet"
           }
          ],
          "heatmap": [
           {
            "colorbar": {
             "outlinewidth": 0,
             "ticks": ""
            },
            "colorscale": [
             [
              0,
              "#0d0887"
             ],
             [
              0.1111111111111111,
              "#46039f"
             ],
             [
              0.2222222222222222,
              "#7201a8"
             ],
             [
              0.3333333333333333,
              "#9c179e"
             ],
             [
              0.4444444444444444,
              "#bd3786"
             ],
             [
              0.5555555555555556,
              "#d8576b"
             ],
             [
              0.6666666666666666,
              "#ed7953"
             ],
             [
              0.7777777777777778,
              "#fb9f3a"
             ],
             [
              0.8888888888888888,
              "#fdca26"
             ],
             [
              1,
              "#f0f921"
             ]
            ],
            "type": "heatmap"
           }
          ],
          "heatmapgl": [
           {
            "colorbar": {
             "outlinewidth": 0,
             "ticks": ""
            },
            "colorscale": [
             [
              0,
              "#0d0887"
             ],
             [
              0.1111111111111111,
              "#46039f"
             ],
             [
              0.2222222222222222,
              "#7201a8"
             ],
             [
              0.3333333333333333,
              "#9c179e"
             ],
             [
              0.4444444444444444,
              "#bd3786"
             ],
             [
              0.5555555555555556,
              "#d8576b"
             ],
             [
              0.6666666666666666,
              "#ed7953"
             ],
             [
              0.7777777777777778,
              "#fb9f3a"
             ],
             [
              0.8888888888888888,
              "#fdca26"
             ],
             [
              1,
              "#f0f921"
             ]
            ],
            "type": "heatmapgl"
           }
          ],
          "histogram": [
           {
            "marker": {
             "pattern": {
              "fillmode": "overlay",
              "size": 10,
              "solidity": 0.2
             }
            },
            "type": "histogram"
           }
          ],
          "histogram2d": [
           {
            "colorbar": {
             "outlinewidth": 0,
             "ticks": ""
            },
            "colorscale": [
             [
              0,
              "#0d0887"
             ],
             [
              0.1111111111111111,
              "#46039f"
             ],
             [
              0.2222222222222222,
              "#7201a8"
             ],
             [
              0.3333333333333333,
              "#9c179e"
             ],
             [
              0.4444444444444444,
              "#bd3786"
             ],
             [
              0.5555555555555556,
              "#d8576b"
             ],
             [
              0.6666666666666666,
              "#ed7953"
             ],
             [
              0.7777777777777778,
              "#fb9f3a"
             ],
             [
              0.8888888888888888,
              "#fdca26"
             ],
             [
              1,
              "#f0f921"
             ]
            ],
            "type": "histogram2d"
           }
          ],
          "histogram2dcontour": [
           {
            "colorbar": {
             "outlinewidth": 0,
             "ticks": ""
            },
            "colorscale": [
             [
              0,
              "#0d0887"
             ],
             [
              0.1111111111111111,
              "#46039f"
             ],
             [
              0.2222222222222222,
              "#7201a8"
             ],
             [
              0.3333333333333333,
              "#9c179e"
             ],
             [
              0.4444444444444444,
              "#bd3786"
             ],
             [
              0.5555555555555556,
              "#d8576b"
             ],
             [
              0.6666666666666666,
              "#ed7953"
             ],
             [
              0.7777777777777778,
              "#fb9f3a"
             ],
             [
              0.8888888888888888,
              "#fdca26"
             ],
             [
              1,
              "#f0f921"
             ]
            ],
            "type": "histogram2dcontour"
           }
          ],
          "mesh3d": [
           {
            "colorbar": {
             "outlinewidth": 0,
             "ticks": ""
            },
            "type": "mesh3d"
           }
          ],
          "parcoords": [
           {
            "line": {
             "colorbar": {
              "outlinewidth": 0,
              "ticks": ""
             }
            },
            "type": "parcoords"
           }
          ],
          "pie": [
           {
            "automargin": true,
            "type": "pie"
           }
          ],
          "scatter": [
           {
            "marker": {
             "colorbar": {
              "outlinewidth": 0,
              "ticks": ""
             }
            },
            "type": "scatter"
           }
          ],
          "scatter3d": [
           {
            "line": {
             "colorbar": {
              "outlinewidth": 0,
              "ticks": ""
             }
            },
            "marker": {
             "colorbar": {
              "outlinewidth": 0,
              "ticks": ""
             }
            },
            "type": "scatter3d"
           }
          ],
          "scattercarpet": [
           {
            "marker": {
             "colorbar": {
              "outlinewidth": 0,
              "ticks": ""
             }
            },
            "type": "scattercarpet"
           }
          ],
          "scattergeo": [
           {
            "marker": {
             "colorbar": {
              "outlinewidth": 0,
              "ticks": ""
             }
            },
            "type": "scattergeo"
           }
          ],
          "scattergl": [
           {
            "marker": {
             "colorbar": {
              "outlinewidth": 0,
              "ticks": ""
             }
            },
            "type": "scattergl"
           }
          ],
          "scattermapbox": [
           {
            "marker": {
             "colorbar": {
              "outlinewidth": 0,
              "ticks": ""
             }
            },
            "type": "scattermapbox"
           }
          ],
          "scatterpolar": [
           {
            "marker": {
             "colorbar": {
              "outlinewidth": 0,
              "ticks": ""
             }
            },
            "type": "scatterpolar"
           }
          ],
          "scatterpolargl": [
           {
            "marker": {
             "colorbar": {
              "outlinewidth": 0,
              "ticks": ""
             }
            },
            "type": "scatterpolargl"
           }
          ],
          "scatterternary": [
           {
            "marker": {
             "colorbar": {
              "outlinewidth": 0,
              "ticks": ""
             }
            },
            "type": "scatterternary"
           }
          ],
          "surface": [
           {
            "colorbar": {
             "outlinewidth": 0,
             "ticks": ""
            },
            "colorscale": [
             [
              0,
              "#0d0887"
             ],
             [
              0.1111111111111111,
              "#46039f"
             ],
             [
              0.2222222222222222,
              "#7201a8"
             ],
             [
              0.3333333333333333,
              "#9c179e"
             ],
             [
              0.4444444444444444,
              "#bd3786"
             ],
             [
              0.5555555555555556,
              "#d8576b"
             ],
             [
              0.6666666666666666,
              "#ed7953"
             ],
             [
              0.7777777777777778,
              "#fb9f3a"
             ],
             [
              0.8888888888888888,
              "#fdca26"
             ],
             [
              1,
              "#f0f921"
             ]
            ],
            "type": "surface"
           }
          ],
          "table": [
           {
            "cells": {
             "fill": {
              "color": "#EBF0F8"
             },
             "line": {
              "color": "white"
             }
            },
            "header": {
             "fill": {
              "color": "#C8D4E3"
             },
             "line": {
              "color": "white"
             }
            },
            "type": "table"
           }
          ]
         },
         "layout": {
          "annotationdefaults": {
           "arrowcolor": "#2a3f5f",
           "arrowhead": 0,
           "arrowwidth": 1
          },
          "autotypenumbers": "strict",
          "coloraxis": {
           "colorbar": {
            "outlinewidth": 0,
            "ticks": ""
           }
          },
          "colorscale": {
           "diverging": [
            [
             0,
             "#8e0152"
            ],
            [
             0.1,
             "#c51b7d"
            ],
            [
             0.2,
             "#de77ae"
            ],
            [
             0.3,
             "#f1b6da"
            ],
            [
             0.4,
             "#fde0ef"
            ],
            [
             0.5,
             "#f7f7f7"
            ],
            [
             0.6,
             "#e6f5d0"
            ],
            [
             0.7,
             "#b8e186"
            ],
            [
             0.8,
             "#7fbc41"
            ],
            [
             0.9,
             "#4d9221"
            ],
            [
             1,
             "#276419"
            ]
           ],
           "sequential": [
            [
             0,
             "#0d0887"
            ],
            [
             0.1111111111111111,
             "#46039f"
            ],
            [
             0.2222222222222222,
             "#7201a8"
            ],
            [
             0.3333333333333333,
             "#9c179e"
            ],
            [
             0.4444444444444444,
             "#bd3786"
            ],
            [
             0.5555555555555556,
             "#d8576b"
            ],
            [
             0.6666666666666666,
             "#ed7953"
            ],
            [
             0.7777777777777778,
             "#fb9f3a"
            ],
            [
             0.8888888888888888,
             "#fdca26"
            ],
            [
             1,
             "#f0f921"
            ]
           ],
           "sequentialminus": [
            [
             0,
             "#0d0887"
            ],
            [
             0.1111111111111111,
             "#46039f"
            ],
            [
             0.2222222222222222,
             "#7201a8"
            ],
            [
             0.3333333333333333,
             "#9c179e"
            ],
            [
             0.4444444444444444,
             "#bd3786"
            ],
            [
             0.5555555555555556,
             "#d8576b"
            ],
            [
             0.6666666666666666,
             "#ed7953"
            ],
            [
             0.7777777777777778,
             "#fb9f3a"
            ],
            [
             0.8888888888888888,
             "#fdca26"
            ],
            [
             1,
             "#f0f921"
            ]
           ]
          },
          "colorway": [
           "#636efa",
           "#EF553B",
           "#00cc96",
           "#ab63fa",
           "#FFA15A",
           "#19d3f3",
           "#FF6692",
           "#B6E880",
           "#FF97FF",
           "#FECB52"
          ],
          "font": {
           "color": "#2a3f5f"
          },
          "geo": {
           "bgcolor": "white",
           "lakecolor": "white",
           "landcolor": "#E5ECF6",
           "showlakes": true,
           "showland": true,
           "subunitcolor": "white"
          },
          "hoverlabel": {
           "align": "left"
          },
          "hovermode": "closest",
          "mapbox": {
           "style": "light"
          },
          "paper_bgcolor": "white",
          "plot_bgcolor": "#E5ECF6",
          "polar": {
           "angularaxis": {
            "gridcolor": "white",
            "linecolor": "white",
            "ticks": ""
           },
           "bgcolor": "#E5ECF6",
           "radialaxis": {
            "gridcolor": "white",
            "linecolor": "white",
            "ticks": ""
           }
          },
          "scene": {
           "xaxis": {
            "backgroundcolor": "#E5ECF6",
            "gridcolor": "white",
            "gridwidth": 2,
            "linecolor": "white",
            "showbackground": true,
            "ticks": "",
            "zerolinecolor": "white"
           },
           "yaxis": {
            "backgroundcolor": "#E5ECF6",
            "gridcolor": "white",
            "gridwidth": 2,
            "linecolor": "white",
            "showbackground": true,
            "ticks": "",
            "zerolinecolor": "white"
           },
           "zaxis": {
            "backgroundcolor": "#E5ECF6",
            "gridcolor": "white",
            "gridwidth": 2,
            "linecolor": "white",
            "showbackground": true,
            "ticks": "",
            "zerolinecolor": "white"
           }
          },
          "shapedefaults": {
           "line": {
            "color": "#2a3f5f"
           }
          },
          "ternary": {
           "aaxis": {
            "gridcolor": "white",
            "linecolor": "white",
            "ticks": ""
           },
           "baxis": {
            "gridcolor": "white",
            "linecolor": "white",
            "ticks": ""
           },
           "bgcolor": "#E5ECF6",
           "caxis": {
            "gridcolor": "white",
            "linecolor": "white",
            "ticks": ""
           }
          },
          "title": {
           "x": 0.05
          },
          "xaxis": {
           "automargin": true,
           "gridcolor": "white",
           "linecolor": "white",
           "ticks": "",
           "title": {
            "standoff": 15
           },
           "zerolinecolor": "white",
           "zerolinewidth": 2
          },
          "yaxis": {
           "automargin": true,
           "gridcolor": "white",
           "linecolor": "white",
           "ticks": "",
           "title": {
            "standoff": 15
           },
           "zerolinecolor": "white",
           "zerolinewidth": 2
          }
         }
        },
        "title": {
         "text": "Mt Bruno Elevation"
        },
        "width": 500
       }
      },
      "text/html": [
       "<div>                            <div id=\"21af74b0-ba77-4723-89fa-db8605a4a84a\" class=\"plotly-graph-div\" style=\"height:500px; width:500px;\"></div>            <script type=\"text/javascript\">                require([\"plotly\"], function(Plotly) {                    window.PLOTLYENV=window.PLOTLYENV || {};                                    if (document.getElementById(\"21af74b0-ba77-4723-89fa-db8605a4a84a\")) {                    Plotly.newPlot(                        \"21af74b0-ba77-4723-89fa-db8605a4a84a\",                        [{\"z\":[[0.8645090756654918,0.8514327107073535,0.9077086706712253,0.906628380137371],[0.8585968767018749,0.864476271671169,0.8570741312323846,0.9023220140913618],[0.8453005089701963,0.8695501889690375,0.91355835408568,0.9521894592095291],[0.9066451605752014,0.9155634140521323,0.9511680746726836,0.9441806178438674]],\"type\":\"surface\",\"contours\":{\"z\":{\"project\":{\"z\":true},\"highlightcolor\":\"limegreen\",\"show\":true,\"usecolormap\":true}}}],                        {\"template\":{\"data\":{\"bar\":[{\"error_x\":{\"color\":\"#2a3f5f\"},\"error_y\":{\"color\":\"#2a3f5f\"},\"marker\":{\"line\":{\"color\":\"#E5ECF6\",\"width\":0.5},\"pattern\":{\"fillmode\":\"overlay\",\"size\":10,\"solidity\":0.2}},\"type\":\"bar\"}],\"barpolar\":[{\"marker\":{\"line\":{\"color\":\"#E5ECF6\",\"width\":0.5},\"pattern\":{\"fillmode\":\"overlay\",\"size\":10,\"solidity\":0.2}},\"type\":\"barpolar\"}],\"carpet\":[{\"aaxis\":{\"endlinecolor\":\"#2a3f5f\",\"gridcolor\":\"white\",\"linecolor\":\"white\",\"minorgridcolor\":\"white\",\"startlinecolor\":\"#2a3f5f\"},\"baxis\":{\"endlinecolor\":\"#2a3f5f\",\"gridcolor\":\"white\",\"linecolor\":\"white\",\"minorgridcolor\":\"white\",\"startlinecolor\":\"#2a3f5f\"},\"type\":\"carpet\"}],\"choropleth\":[{\"colorbar\":{\"outlinewidth\":0,\"ticks\":\"\"},\"type\":\"choropleth\"}],\"contour\":[{\"colorbar\":{\"outlinewidth\":0,\"ticks\":\"\"},\"colorscale\":[[0.0,\"#0d0887\"],[0.1111111111111111,\"#46039f\"],[0.2222222222222222,\"#7201a8\"],[0.3333333333333333,\"#9c179e\"],[0.4444444444444444,\"#bd3786\"],[0.5555555555555556,\"#d8576b\"],[0.6666666666666666,\"#ed7953\"],[0.7777777777777778,\"#fb9f3a\"],[0.8888888888888888,\"#fdca26\"],[1.0,\"#f0f921\"]],\"type\":\"contour\"}],\"contourcarpet\":[{\"colorbar\":{\"outlinewidth\":0,\"ticks\":\"\"},\"type\":\"contourcarpet\"}],\"heatmap\":[{\"colorbar\":{\"outlinewidth\":0,\"ticks\":\"\"},\"colorscale\":[[0.0,\"#0d0887\"],[0.1111111111111111,\"#46039f\"],[0.2222222222222222,\"#7201a8\"],[0.3333333333333333,\"#9c179e\"],[0.4444444444444444,\"#bd3786\"],[0.5555555555555556,\"#d8576b\"],[0.6666666666666666,\"#ed7953\"],[0.7777777777777778,\"#fb9f3a\"],[0.8888888888888888,\"#fdca26\"],[1.0,\"#f0f921\"]],\"type\":\"heatmap\"}],\"heatmapgl\":[{\"colorbar\":{\"outlinewidth\":0,\"ticks\":\"\"},\"colorscale\":[[0.0,\"#0d0887\"],[0.1111111111111111,\"#46039f\"],[0.2222222222222222,\"#7201a8\"],[0.3333333333333333,\"#9c179e\"],[0.4444444444444444,\"#bd3786\"],[0.5555555555555556,\"#d8576b\"],[0.6666666666666666,\"#ed7953\"],[0.7777777777777778,\"#fb9f3a\"],[0.8888888888888888,\"#fdca26\"],[1.0,\"#f0f921\"]],\"type\":\"heatmapgl\"}],\"histogram\":[{\"marker\":{\"pattern\":{\"fillmode\":\"overlay\",\"size\":10,\"solidity\":0.2}},\"type\":\"histogram\"}],\"histogram2d\":[{\"colorbar\":{\"outlinewidth\":0,\"ticks\":\"\"},\"colorscale\":[[0.0,\"#0d0887\"],[0.1111111111111111,\"#46039f\"],[0.2222222222222222,\"#7201a8\"],[0.3333333333333333,\"#9c179e\"],[0.4444444444444444,\"#bd3786\"],[0.5555555555555556,\"#d8576b\"],[0.6666666666666666,\"#ed7953\"],[0.7777777777777778,\"#fb9f3a\"],[0.8888888888888888,\"#fdca26\"],[1.0,\"#f0f921\"]],\"type\":\"histogram2d\"}],\"histogram2dcontour\":[{\"colorbar\":{\"outlinewidth\":0,\"ticks\":\"\"},\"colorscale\":[[0.0,\"#0d0887\"],[0.1111111111111111,\"#46039f\"],[0.2222222222222222,\"#7201a8\"],[0.3333333333333333,\"#9c179e\"],[0.4444444444444444,\"#bd3786\"],[0.5555555555555556,\"#d8576b\"],[0.6666666666666666,\"#ed7953\"],[0.7777777777777778,\"#fb9f3a\"],[0.8888888888888888,\"#fdca26\"],[1.0,\"#f0f921\"]],\"type\":\"histogram2dcontour\"}],\"mesh3d\":[{\"colorbar\":{\"outlinewidth\":0,\"ticks\":\"\"},\"type\":\"mesh3d\"}],\"parcoords\":[{\"line\":{\"colorbar\":{\"outlinewidth\":0,\"ticks\":\"\"}},\"type\":\"parcoords\"}],\"pie\":[{\"automargin\":true,\"type\":\"pie\"}],\"scatter\":[{\"marker\":{\"colorbar\":{\"outlinewidth\":0,\"ticks\":\"\"}},\"type\":\"scatter\"}],\"scatter3d\":[{\"line\":{\"colorbar\":{\"outlinewidth\":0,\"ticks\":\"\"}},\"marker\":{\"colorbar\":{\"outlinewidth\":0,\"ticks\":\"\"}},\"type\":\"scatter3d\"}],\"scattercarpet\":[{\"marker\":{\"colorbar\":{\"outlinewidth\":0,\"ticks\":\"\"}},\"type\":\"scattercarpet\"}],\"scattergeo\":[{\"marker\":{\"colorbar\":{\"outlinewidth\":0,\"ticks\":\"\"}},\"type\":\"scattergeo\"}],\"scattergl\":[{\"marker\":{\"colorbar\":{\"outlinewidth\":0,\"ticks\":\"\"}},\"type\":\"scattergl\"}],\"scattermapbox\":[{\"marker\":{\"colorbar\":{\"outlinewidth\":0,\"ticks\":\"\"}},\"type\":\"scattermapbox\"}],\"scatterpolar\":[{\"marker\":{\"colorbar\":{\"outlinewidth\":0,\"ticks\":\"\"}},\"type\":\"scatterpolar\"}],\"scatterpolargl\":[{\"marker\":{\"colorbar\":{\"outlinewidth\":0,\"ticks\":\"\"}},\"type\":\"scatterpolargl\"}],\"scatterternary\":[{\"marker\":{\"colorbar\":{\"outlinewidth\":0,\"ticks\":\"\"}},\"type\":\"scatterternary\"}],\"surface\":[{\"colorbar\":{\"outlinewidth\":0,\"ticks\":\"\"},\"colorscale\":[[0.0,\"#0d0887\"],[0.1111111111111111,\"#46039f\"],[0.2222222222222222,\"#7201a8\"],[0.3333333333333333,\"#9c179e\"],[0.4444444444444444,\"#bd3786\"],[0.5555555555555556,\"#d8576b\"],[0.6666666666666666,\"#ed7953\"],[0.7777777777777778,\"#fb9f3a\"],[0.8888888888888888,\"#fdca26\"],[1.0,\"#f0f921\"]],\"type\":\"surface\"}],\"table\":[{\"cells\":{\"fill\":{\"color\":\"#EBF0F8\"},\"line\":{\"color\":\"white\"}},\"header\":{\"fill\":{\"color\":\"#C8D4E3\"},\"line\":{\"color\":\"white\"}},\"type\":\"table\"}]},\"layout\":{\"annotationdefaults\":{\"arrowcolor\":\"#2a3f5f\",\"arrowhead\":0,\"arrowwidth\":1},\"autotypenumbers\":\"strict\",\"coloraxis\":{\"colorbar\":{\"outlinewidth\":0,\"ticks\":\"\"}},\"colorscale\":{\"diverging\":[[0,\"#8e0152\"],[0.1,\"#c51b7d\"],[0.2,\"#de77ae\"],[0.3,\"#f1b6da\"],[0.4,\"#fde0ef\"],[0.5,\"#f7f7f7\"],[0.6,\"#e6f5d0\"],[0.7,\"#b8e186\"],[0.8,\"#7fbc41\"],[0.9,\"#4d9221\"],[1,\"#276419\"]],\"sequential\":[[0.0,\"#0d0887\"],[0.1111111111111111,\"#46039f\"],[0.2222222222222222,\"#7201a8\"],[0.3333333333333333,\"#9c179e\"],[0.4444444444444444,\"#bd3786\"],[0.5555555555555556,\"#d8576b\"],[0.6666666666666666,\"#ed7953\"],[0.7777777777777778,\"#fb9f3a\"],[0.8888888888888888,\"#fdca26\"],[1.0,\"#f0f921\"]],\"sequentialminus\":[[0.0,\"#0d0887\"],[0.1111111111111111,\"#46039f\"],[0.2222222222222222,\"#7201a8\"],[0.3333333333333333,\"#9c179e\"],[0.4444444444444444,\"#bd3786\"],[0.5555555555555556,\"#d8576b\"],[0.6666666666666666,\"#ed7953\"],[0.7777777777777778,\"#fb9f3a\"],[0.8888888888888888,\"#fdca26\"],[1.0,\"#f0f921\"]]},\"colorway\":[\"#636efa\",\"#EF553B\",\"#00cc96\",\"#ab63fa\",\"#FFA15A\",\"#19d3f3\",\"#FF6692\",\"#B6E880\",\"#FF97FF\",\"#FECB52\"],\"font\":{\"color\":\"#2a3f5f\"},\"geo\":{\"bgcolor\":\"white\",\"lakecolor\":\"white\",\"landcolor\":\"#E5ECF6\",\"showlakes\":true,\"showland\":true,\"subunitcolor\":\"white\"},\"hoverlabel\":{\"align\":\"left\"},\"hovermode\":\"closest\",\"mapbox\":{\"style\":\"light\"},\"paper_bgcolor\":\"white\",\"plot_bgcolor\":\"#E5ECF6\",\"polar\":{\"angularaxis\":{\"gridcolor\":\"white\",\"linecolor\":\"white\",\"ticks\":\"\"},\"bgcolor\":\"#E5ECF6\",\"radialaxis\":{\"gridcolor\":\"white\",\"linecolor\":\"white\",\"ticks\":\"\"}},\"scene\":{\"xaxis\":{\"backgroundcolor\":\"#E5ECF6\",\"gridcolor\":\"white\",\"gridwidth\":2,\"linecolor\":\"white\",\"showbackground\":true,\"ticks\":\"\",\"zerolinecolor\":\"white\"},\"yaxis\":{\"backgroundcolor\":\"#E5ECF6\",\"gridcolor\":\"white\",\"gridwidth\":2,\"linecolor\":\"white\",\"showbackground\":true,\"ticks\":\"\",\"zerolinecolor\":\"white\"},\"zaxis\":{\"backgroundcolor\":\"#E5ECF6\",\"gridcolor\":\"white\",\"gridwidth\":2,\"linecolor\":\"white\",\"showbackground\":true,\"ticks\":\"\",\"zerolinecolor\":\"white\"}},\"shapedefaults\":{\"line\":{\"color\":\"#2a3f5f\"}},\"ternary\":{\"aaxis\":{\"gridcolor\":\"white\",\"linecolor\":\"white\",\"ticks\":\"\"},\"baxis\":{\"gridcolor\":\"white\",\"linecolor\":\"white\",\"ticks\":\"\"},\"bgcolor\":\"#E5ECF6\",\"caxis\":{\"gridcolor\":\"white\",\"linecolor\":\"white\",\"ticks\":\"\"}},\"title\":{\"x\":0.05},\"xaxis\":{\"automargin\":true,\"gridcolor\":\"white\",\"linecolor\":\"white\",\"ticks\":\"\",\"title\":{\"standoff\":15},\"zerolinecolor\":\"white\",\"zerolinewidth\":2},\"yaxis\":{\"automargin\":true,\"gridcolor\":\"white\",\"linecolor\":\"white\",\"ticks\":\"\",\"title\":{\"standoff\":15},\"zerolinecolor\":\"white\",\"zerolinewidth\":2}}},\"margin\":{\"l\":65,\"r\":50,\"b\":65,\"t\":90},\"title\":{\"text\":\"Mt Bruno Elevation\"},\"autosize\":false,\"width\":500,\"height\":500},                        {\"responsive\": true}                    ).then(function(){\n",
       "                            \n",
       "var gd = document.getElementById('21af74b0-ba77-4723-89fa-db8605a4a84a');\n",
       "var x = new MutationObserver(function (mutations, observer) {{\n",
       "        var display = window.getComputedStyle(gd).display;\n",
       "        if (!display || display === 'none') {{\n",
       "            console.log([gd, 'removed!']);\n",
       "            Plotly.purge(gd);\n",
       "            observer.disconnect();\n",
       "        }}\n",
       "}});\n",
       "\n",
       "// Listen for the removal of the full notebook cells\n",
       "var notebookContainer = gd.closest('#notebook-container');\n",
       "if (notebookContainer) {{\n",
       "    x.observe(notebookContainer, {childList: true});\n",
       "}}\n",
       "\n",
       "// Listen for the clearing of the current output cell\n",
       "var outputEl = gd.closest('.output');\n",
       "if (outputEl) {{\n",
       "    x.observe(outputEl, {childList: true});\n",
       "}}\n",
       "\n",
       "                        })                };                });            </script>        </div>"
      ]
     },
     "metadata": {},
     "output_type": "display_data"
    }
   ],
   "source": [
    "factor1 = 'Arc Printing Speed'\n",
    "factor2 = 'Arc Fibre Feed Rate'\n",
    "\n",
    "mean_df = df[df['Section']=='AP_after'].groupby([factor1,factor2]).mean().reset_index()\n",
    "flights = mean_df.pivot(factor1,factor2, \"Score\")\n",
    "fig = go.Figure(data=[go.Surface(z=flights.values)])\n",
    "fig.update_traces(contours_z=dict(show=True, usecolormap=True,\n",
    "                                  highlightcolor=\"limegreen\", project_z=True))\n",
    "fig.update_layout(title='Mt Bruno Elevation', autosize=False,\n",
    "                  width=500, height=500,\n",
    "                  margin=dict(l=65, r=50, b=65, t=90))\n",
    "fig.show()"
   ]
  },
  {
   "cell_type": "code",
   "execution_count": 17,
   "id": "24e57a2c",
   "metadata": {},
   "outputs": [],
   "source": [
    "a5_df = df[(df['Section']=='AP_arc') & (df['Radius']==5)]\n",
    "a10_df = df[(df['Section']=='AP_arc') & (df['Radius']==10)]\n",
    "a20_df = df[(df['Section']=='AP_arc') & (df['Radius']==20)]"
   ]
  },
  {
   "cell_type": "code",
   "execution_count": 81,
   "id": "3d4fecf3",
   "metadata": {
    "scrolled": true
   },
   "outputs": [
    {
     "data": {
      "image/png": "[encoded data removed]",
      "text/plain": [
       "<Figure size 432x288 with 1 Axes>"
      ]
     },
     "metadata": {
      "needs_background": "light"
     },
     "output_type": "display_data"
    }
   ],
   "source": [
    "sns.violinplot(data=df, x=\"Fibre Feed Rate\", y=\"Score\", hue=\"Radius\",inner=\"quart\", linewidth=1,)\n",
    "#                split=True, palette={\"Yes\": \"b\", \"No\": \".85\"})\n",
    "sns.despine(left=True)"
   ]
  },
  {
   "cell_type": "code",
   "execution_count": 56,
   "id": "cdd61acd",
   "metadata": {
    "scrolled": true
   },
   "outputs": [
    {
     "data": {
      "image/png": "[encoded data removed]",
      "text/plain": [
       "<Figure size 432x288 with 1 Axes>"
      ]
     },
     "metadata": {
      "needs_background": "light"
     },
     "output_type": "display_data"
    }
   ],
   "source": [
    "sns.violinplot(data=df, x=\"Fibre Feed Rate\", y=\"Score\", hue=\"Radius\",\n",
    "               inner=\"quart\", linewidth=1,)\n",
    "#                split=True, palette={\"Yes\": \"b\", \"No\": \".85\"})\n",
    "sns.despine(left=True)"
   ]
  },
  {
   "cell_type": "code",
   "execution_count": 56,
   "id": "53ad1e09",
   "metadata": {
    "scrolled": true
   },
   "outputs": [
    {
     "data": {
      "image/png": "[encoded data removed]",
      "text/plain": [
       "<Figure size 432x288 with 1 Axes>"
      ]
     },
     "metadata": {
      "needs_background": "light"
     },
     "output_type": "display_data"
    }
   ],
   "source": [
    "sns.violinplot(data=df, x=\"Fibre Feed Rate\", y=\"Score\", hue=\"Radius\",\n",
    "               inner=\"quart\", linewidth=1,)\n",
    "#                split=True, palette={\"Yes\": \"b\", \"No\": \".85\"})\n",
    "sns.despine(left=True)"
   ]
  },
  {
   "cell_type": "code",
   "execution_count": 20,
   "id": "c80ac202",
   "metadata": {},
   "outputs": [
    {
     "name": "stderr",
     "output_type": "stream",
     "text": [
      "C:\\Users\\LocalAdmin\\anaconda3\\lib\\site-packages\\scipy\\stats\\stats.py:3621: F_onewayBadInputSizesWarning: at least one input has length 0\n",
      "  warnings.warn(F_onewayBadInputSizesWarning('at least one input '\n"
     ]
    },
    {
     "data": {
      "text/plain": [
       "F_onewayResult(statistic=nan, pvalue=nan)"
      ]
     },
     "execution_count": 20,
     "metadata": {},
     "output_type": "execute_result"
    }
   ],
   "source": [
    "# Get df groupby different printing temperature\n",
    "\n",
    "column = 'Section'\n",
    "performance1 = list(df[df[column]=='AP_before']['Score'])\n",
    "performance2 = list(df[df[column]=='AP_arc']['Score'])\n",
    "performance3 = list(df[df[column]=='AP_after']['Score'])\n",
    "# Conduct the one-way ANOVA\n",
    "f_oneway(performance1, performance2, performance3,)"
   ]
  },
  {
   "cell_type": "code",
   "execution_count": 39,
   "id": "7be5539e",
   "metadata": {},
   "outputs": [
    {
     "data": {
      "text/plain": [
       "F_onewayResult(statistic=nan, pvalue=nan)"
      ]
     },
     "execution_count": 39,
     "metadata": {},
     "output_type": "execute_result"
    }
   ],
   "source": [
    "# Get df groupby different printing temperature\n",
    "df = a20_df\n",
    "column = 'Radius'\n",
    "performance1 = list(df[df[column]==5]['Score'])\n",
    "performance2 = list(df[df[column]==10]['Score'])\n",
    "performance3 = list(df[df[column]==20]['Score'])\n",
    "# Conduct the one-way ANOVA\n",
    "f_oneway(performance1, performance2, performance3,)"
   ]
  },
  {
   "cell_type": "code",
   "execution_count": 40,
   "id": "bb08ba62",
   "metadata": {},
   "outputs": [
    {
     "data": {
      "text/plain": [
       "F_onewayResult(statistic=0.11197752628910111, pvalue=0.9514274278606899)"
      ]
     },
     "execution_count": 40,
     "metadata": {},
     "output_type": "execute_result"
    }
   ],
   "source": [
    "# Get df groupby different printing temperature\n",
    "column = 'Printing Temperature'\n",
    "performance1 = list(df[df[column]==240]['Score'])\n",
    "performance2 = list(df[df[column]==250]['Score'])\n",
    "performance3 = list(df[df[column]==260]['Score'])\n",
    "performance4 = list(df[df[column]==270]['Score'])\n",
    "# Conduct the one-way ANOVA\n",
    "f_oneway(performance1, performance2, performance3, performance4)"
   ]
  },
  {
   "cell_type": "code",
   "execution_count": 41,
   "id": "d54ea2e9",
   "metadata": {},
   "outputs": [
    {
     "data": {
      "text/plain": [
       "F_onewayResult(statistic=0.4692957969692555, pvalue=0.7092078403819962)"
      ]
     },
     "execution_count": 41,
     "metadata": {},
     "output_type": "execute_result"
    }
   ],
   "source": [
    "# Get df groupby different parameters\n",
    "column = 'Printing Speed'\n",
    "performance1 = list(df[df[column]==120]['Score'])\n",
    "performance2 = list(df[df[column]==280]['Score'])\n",
    "performance3 = list(df[df[column]==440]['Score'])\n",
    "performance4 = list(df[df[column]==600]['Score'])\n",
    "# Conduct the one-way ANOVA\n",
    "f_oneway(performance1, performance2, performance3, performance4)"
   ]
  },
  {
   "cell_type": "code",
   "execution_count": 42,
   "id": "48cc2153",
   "metadata": {},
   "outputs": [
    {
     "data": {
      "text/plain": [
       "F_onewayResult(statistic=20.397873609612287, pvalue=5.279461892271928e-05)"
      ]
     },
     "execution_count": 42,
     "metadata": {},
     "output_type": "execute_result"
    }
   ],
   "source": [
    "# Get df groupby different parameters\n",
    "column = 'Fibre Feed Rate'\n",
    "performance1 = list(df[df[column]==0.8]['Score'])\n",
    "performance2 = list(df[df[column]==0.9]['Score'])\n",
    "performance3 = list(df[df[column]==1]['Score'])\n",
    "performance4 = list(df[df[column]==1.1]['Score'])\n",
    "# Conduct the one-way ANOVA\n",
    "f_oneway(performance1, performance2, performance3, performance4)"
   ]
  },
  {
   "cell_type": "code",
   "execution_count": 43,
   "id": "f7503a94",
   "metadata": {},
   "outputs": [
    {
     "data": {
      "text/plain": [
       "F_onewayResult(statistic=0.0870459805210311, pvalue=0.9657992714782964)"
      ]
     },
     "execution_count": 43,
     "metadata": {},
     "output_type": "execute_result"
    }
   ],
   "source": [
    "# Get df groupby different parameters\n",
    "column = 'Nylon Feed Rate'\n",
    "performance1 = list(df[df[column]==0.6]['Score'])\n",
    "performance2 = list(df[df[column]==0.8]['Score'])\n",
    "performance3 = list(df[df[column]==1]['Score'])\n",
    "performance4 = list(df[df[column]==1.2]['Score'])\n",
    "# Conduct the one-way ANOVA\n",
    "f_oneway(performance1, performance2, performance3, performance4)"
   ]
  },
  {
   "cell_type": "code",
   "execution_count": 33,
   "id": "22f55cd6",
   "metadata": {},
   "outputs": [],
   "source": [
    "mean_df = df.groupby(['Printing Temperature', 'Printing Speed','Fibre Feed Rate'\\\n",
    "                      ,'Nylon Feed Rate','Arc Printing Speed','Arc Fibre Feed Rate',\\\n",
    "                      'Arc Nylon Feed Rate','Radius','Section']).mean()\n",
    "# mean_df.to_excel('Grouped_AP_summary.xlsx')"
   ]
  },
  {
   "cell_type": "code",
   "execution_count": 34,
   "id": "23cf6040",
   "metadata": {
    "scrolled": true
   },
   "outputs": [
    {
     "data": {
      "text/html": [
       "<div>\n",
       "<style scoped>\n",
       "    .dataframe tbody tr th:only-of-type {\n",
       "        vertical-align: middle;\n",
       "    }\n",
       "\n",
       "    .dataframe tbody tr th {\n",
       "        vertical-align: top;\n",
       "    }\n",
       "\n",
       "    .dataframe thead th {\n",
       "        text-align: right;\n",
       "    }\n",
       "</style>\n",
       "<table border=\"1\" class=\"dataframe\">\n",
       "  <thead>\n",
       "    <tr style=\"text-align: right;\">\n",
       "      <th></th>\n",
       "      <th>Printing Temperature</th>\n",
       "      <th>Printing Speed</th>\n",
       "      <th>Fibre Feed Rate</th>\n",
       "      <th>Nylon Feed Rate</th>\n",
       "      <th>Arc Printing Speed</th>\n",
       "      <th>Arc Fibre Feed Rate</th>\n",
       "      <th>Arc Nylon Feed Rate</th>\n",
       "      <th>Radius</th>\n",
       "      <th>Section</th>\n",
       "      <th>Score</th>\n",
       "    </tr>\n",
       "  </thead>\n",
       "  <tbody>\n",
       "    <tr>\n",
       "      <th>0</th>\n",
       "      <td>240</td>\n",
       "      <td>120</td>\n",
       "      <td>0.8</td>\n",
       "      <td>0.6</td>\n",
       "      <td>120</td>\n",
       "      <td>0.8</td>\n",
       "      <td>0.6</td>\n",
       "      <td>5</td>\n",
       "      <td>AP_arc</td>\n",
       "      <td>0.350079</td>\n",
       "    </tr>\n",
       "    <tr>\n",
       "      <th>1</th>\n",
       "      <td>240</td>\n",
       "      <td>120</td>\n",
       "      <td>0.8</td>\n",
       "      <td>0.6</td>\n",
       "      <td>120</td>\n",
       "      <td>0.8</td>\n",
       "      <td>0.6</td>\n",
       "      <td>10</td>\n",
       "      <td>AP_arc</td>\n",
       "      <td>0.395861</td>\n",
       "    </tr>\n",
       "    <tr>\n",
       "      <th>2</th>\n",
       "      <td>240</td>\n",
       "      <td>120</td>\n",
       "      <td>0.8</td>\n",
       "      <td>0.6</td>\n",
       "      <td>120</td>\n",
       "      <td>0.8</td>\n",
       "      <td>0.6</td>\n",
       "      <td>20</td>\n",
       "      <td>AP_arc</td>\n",
       "      <td>0.507738</td>\n",
       "    </tr>\n",
       "    <tr>\n",
       "      <th>3</th>\n",
       "      <td>240</td>\n",
       "      <td>120</td>\n",
       "      <td>1.0</td>\n",
       "      <td>1.0</td>\n",
       "      <td>120</td>\n",
       "      <td>0.8</td>\n",
       "      <td>0.6</td>\n",
       "      <td>5</td>\n",
       "      <td>AP_after</td>\n",
       "      <td>0.825531</td>\n",
       "    </tr>\n",
       "    <tr>\n",
       "      <th>4</th>\n",
       "      <td>240</td>\n",
       "      <td>120</td>\n",
       "      <td>1.0</td>\n",
       "      <td>1.0</td>\n",
       "      <td>120</td>\n",
       "      <td>0.8</td>\n",
       "      <td>0.6</td>\n",
       "      <td>5</td>\n",
       "      <td>AP_before</td>\n",
       "      <td>0.906179</td>\n",
       "    </tr>\n",
       "  </tbody>\n",
       "</table>\n",
       "</div>"
      ],
      "text/plain": [
       "   Printing Temperature  Printing Speed  Fibre Feed Rate  Nylon Feed Rate  \\\n",
       "0                   240             120              0.8              0.6   \n",
       "1                   240             120              0.8              0.6   \n",
       "2                   240             120              0.8              0.6   \n",
       "3                   240             120              1.0              1.0   \n",
       "4                   240             120              1.0              1.0   \n",
       "\n",
       "   Arc Printing Speed  Arc Fibre Feed Rate  Arc Nylon Feed Rate  Radius  \\\n",
       "0                 120                  0.8                  0.6       5   \n",
       "1                 120                  0.8                  0.6      10   \n",
       "2                 120                  0.8                  0.6      20   \n",
       "3                 120                  0.8                  0.6       5   \n",
       "4                 120                  0.8                  0.6       5   \n",
       "\n",
       "     Section     Score  \n",
       "0     AP_arc  0.350079  \n",
       "1     AP_arc  0.395861  \n",
       "2     AP_arc  0.507738  \n",
       "3   AP_after  0.825531  \n",
       "4  AP_before  0.906179  "
      ]
     },
     "execution_count": 34,
     "metadata": {},
     "output_type": "execute_result"
    }
   ],
   "source": [
    "new_df = mean_df.reset_index()\n",
    "new_df.head()"
   ]
  },
  {
   "cell_type": "code",
   "execution_count": 13,
   "id": "07ce4ae9",
   "metadata": {},
   "outputs": [],
   "source": [
    "arc_df = new_df[(new_df['Section']=='AP_arc')]"
   ]
  },
  {
   "cell_type": "code",
   "execution_count": 16,
   "id": "7b75a285",
   "metadata": {},
   "outputs": [
    {
     "data": {
      "image/png": "[encoded data removed]",
      "text/plain": [
       "<Figure size 408.75x360 with 1 Axes>"
      ]
     },
     "metadata": {
      "needs_background": "light"
     },
     "output_type": "display_data"
    }
   ],
   "source": [
    "# sns.set_theme(style=\"ticks\")\n",
    "# df = pd.read_excel('New_AP_summary.xlsx', sheet_name='Sheet1')\n",
    "# Load the penguins dataset\n",
    "# penguins = sns.load_dataset(df)\n",
    "\n",
    "# Show the joint distribution using kernel density estimation\n",
    "g = sns.lmplot(\n",
    "    data=arc_df,\n",
    "    x=\"Printing Temperature\", y=\"Score\", hue=\"Radius\",\n",
    "    height=5\n",
    ")"
   ]
  },
  {
   "cell_type": "code",
   "execution_count": 17,
   "id": "7316089f",
   "metadata": {},
   "outputs": [
    {
     "data": {
      "image/png": "[encoded data removed]",
      "text/plain": [
       "<Figure size 408.75x360 with 1 Axes>"
      ]
     },
     "metadata": {
      "needs_background": "light"
     },
     "output_type": "display_data"
    }
   ],
   "source": [
    "# sns.set_theme(style=\"ticks\")\n",
    "# df = pd.read_excel('New_AP_summary.xlsx', sheet_name='Sheet1')\n",
    "# Load the penguins dataset\n",
    "# penguins = sns.load_dataset(df)\n",
    "\n",
    "# Show the joint distribution using kernel density estimation\n",
    "g = sns.lmplot(\n",
    "    data=arc_df,\n",
    "    x=\"Printing Speed\", y=\"Score\", hue=\"Radius\",\n",
    "    height=5\n",
    ")"
   ]
  },
  {
   "cell_type": "code",
   "execution_count": 18,
   "id": "f2750110",
   "metadata": {},
   "outputs": [
    {
     "data": {
      "image/png": "[encoded data removed]",
      "text/plain": [
       "<Figure size 408.75x360 with 1 Axes>"
      ]
     },
     "metadata": {
      "needs_background": "light"
     },
     "output_type": "display_data"
    }
   ],
   "source": [
    "# sns.set_theme(style=\"ticks\")\n",
    "# df = pd.read_excel('New_AP_summary.xlsx', sheet_name='Sheet1')\n",
    "# Load the penguins dataset\n",
    "# penguins = sns.load_dataset(df)\n",
    "\n",
    "# Show the joint distribution using kernel density estimation\n",
    "g = sns.lmplot(\n",
    "    data=arc_df,\n",
    "    x=\"Fibre Feed Rate\", y=\"Score\", hue=\"Radius\",\n",
    "    height=5\n",
    ")"
   ]
  },
  {
   "cell_type": "code",
   "execution_count": 19,
   "id": "897c2b91",
   "metadata": {
    "scrolled": true
   },
   "outputs": [
    {
     "data": {
      "image/png": "[encoded data removed]",
      "text/plain": [
       "<Figure size 408.75x360 with 1 Axes>"
      ]
     },
     "metadata": {
      "needs_background": "light"
     },
     "output_type": "display_data"
    }
   ],
   "source": [
    "# sns.set_theme(style=\"ticks\")\n",
    "# df = pd.read_excel('New_AP_summary.xlsx', sheet_name='Sheet1')\n",
    "# Load the penguins dataset\n",
    "# penguins = sns.load_dataset(df)\n",
    "\n",
    "# Show the joint distribution using kernel density estimation\n",
    "g = sns.lmplot(\n",
    "    data=arc_df,\n",
    "    x=\"Nylon Feed Rate\", y=\"Score\", hue=\"Radius\",\n",
    "    height=5\n",
    ")"
   ]
  },
  {
   "cell_type": "code",
   "execution_count": null,
   "id": "b52fdf72",
   "metadata": {},
   "outputs": [],
   "source": []
  },
  {
   "cell_type": "code",
   "execution_count": null,
   "id": "e676df1f",
   "metadata": {},
   "outputs": [],
   "source": []
  },
  {
   "cell_type": "code",
   "execution_count": null,
   "id": "5ab3c1ca",
   "metadata": {},
   "outputs": [],
   "source": []
  },
  {
   "cell_type": "code",
   "execution_count": 52,
   "id": "f8646132",
   "metadata": {},
   "outputs": [
    {
     "data": {
      "image/png": "[encoded data removed]",
      "text/plain": [
       "<Figure size 445.875x360 with 1 Axes>"
      ]
     },
     "metadata": {
      "needs_background": "light"
     },
     "output_type": "display_data"
    }
   ],
   "source": [
    "# sns.set_theme(style=\"ticks\")\n",
    "# df = pd.read_excel('New_AP_summary.xlsx', sheet_name='Sheet1')\n",
    "# Load the penguins dataset\n",
    "# penguins = sns.load_dataset(df)\n",
    "\n",
    "# Show the joint distribution using kernel density estimation\n",
    "g = sns.lmplot(\n",
    "    data=new_df,\n",
    "    x=\"Radius\", y=\"Score\", hue=\"Section\",\n",
    "    height=5\n",
    ")"
   ]
  },
  {
   "cell_type": "code",
   "execution_count": 54,
   "id": "093b445e",
   "metadata": {},
   "outputs": [
    {
     "data": {
      "image/png": "[encoded data removed]",
      "text/plain": [
       "<Figure size 445.875x360 with 1 Axes>"
      ]
     },
     "metadata": {
      "needs_background": "light"
     },
     "output_type": "display_data"
    }
   ],
   "source": [
    "\n",
    "g = sns.lmplot(\n",
    "    data=new_df,\n",
    "    x=\"Printing Temperature\", y=\"Score\", hue=\"Section\",\n",
    "    height=5\n",
    ")"
   ]
  },
  {
   "cell_type": "code",
   "execution_count": 55,
   "id": "8d638d14",
   "metadata": {},
   "outputs": [
    {
     "data": {
      "image/png": "[encoded data removed]",
      "text/plain": [
       "<Figure size 445.875x360 with 1 Axes>"
      ]
     },
     "metadata": {
      "needs_background": "light"
     },
     "output_type": "display_data"
    }
   ],
   "source": [
    "\n",
    "g = sns.lmplot(\n",
    "    data=new_df,\n",
    "    x=\"Printing Speed\", y=\"Score\", hue=\"Section\",\n",
    "    height=5\n",
    ")"
   ]
  },
  {
   "cell_type": "code",
   "execution_count": 56,
   "id": "36adb71e",
   "metadata": {},
   "outputs": [
    {
     "data": {
      "image/png": "[encoded data removed]",
      "text/plain": [
       "<Figure size 445.875x360 with 1 Axes>"
      ]
     },
     "metadata": {
      "needs_background": "light"
     },
     "output_type": "display_data"
    }
   ],
   "source": [
    "\n",
    "g = sns.lmplot(\n",
    "    data=new_df,\n",
    "    x=\"Arc Printing Speed\", y=\"Score\", hue=\"Section\",\n",
    "    height=5\n",
    ")"
   ]
  },
  {
   "cell_type": "code",
   "execution_count": 57,
   "id": "8270c0c1",
   "metadata": {},
   "outputs": [
    {
     "data": {
      "image/png": "[encoded data removed]",
      "text/plain": [
       "<Figure size 445.875x360 with 1 Axes>"
      ]
     },
     "metadata": {
      "needs_background": "light"
     },
     "output_type": "display_data"
    }
   ],
   "source": [
    "\n",
    "g = sns.lmplot(\n",
    "    data=new_df,\n",
    "    x=\"Fibre Feed Rate\", y=\"Score\", hue=\"Section\",\n",
    "    height=5\n",
    ")"
   ]
  },
  {
   "cell_type": "code",
   "execution_count": 58,
   "id": "d3db5ed3",
   "metadata": {},
   "outputs": [
    {
     "data": {
      "image/png": "[encoded data removed]",
      "text/plain": [
       "<Figure size 445.875x360 with 1 Axes>"
      ]
     },
     "metadata": {
      "needs_background": "light"
     },
     "output_type": "display_data"
    }
   ],
   "source": [
    "\n",
    "g = sns.lmplot(\n",
    "    data=new_df,\n",
    "    x=\"Arc Fibre Feed Rate\", y=\"Score\", hue=\"Section\",\n",
    "    height=5\n",
    ")"
   ]
  },
  {
   "cell_type": "code",
   "execution_count": 59,
   "id": "83bb98e8",
   "metadata": {
    "scrolled": true
   },
   "outputs": [
    {
     "data": {
      "image/png": "[encoded data removed]",
      "text/plain": [
       "<Figure size 445.875x360 with 1 Axes>"
      ]
     },
     "metadata": {
      "needs_background": "light"
     },
     "output_type": "display_data"
    }
   ],
   "source": [
    "\n",
    "g = sns.lmplot(\n",
    "    data=new_df,\n",
    "    x=\"Nylon Feed Rate\", y=\"Score\", hue=\"Section\",\n",
    "    height=5\n",
    ")"
   ]
  },
  {
   "cell_type": "code",
   "execution_count": 60,
   "id": "768b1c19",
   "metadata": {
    "scrolled": true
   },
   "outputs": [
    {
     "data": {
      "image/png": "[encoded data removed]",
      "text/plain": [
       "<Figure size 445.875x360 with 1 Axes>"
      ]
     },
     "metadata": {
      "needs_background": "light"
     },
     "output_type": "display_data"
    }
   ],
   "source": [
    "\n",
    "g = sns.lmplot(\n",
    "    data=new_df,\n",
    "    x=\"Arc Nylon Feed Rate\", y=\"Score\", hue=\"Section\",\n",
    "    height=5\n",
    ")"
   ]
  },
  {
   "cell_type": "code",
   "execution_count": 42,
   "id": "e66e20b5",
   "metadata": {},
   "outputs": [
    {
     "data": {
      "text/plain": [
       "<AxesSubplot:xlabel='Fibre Feed Rate', ylabel='Printing Speed'>"
      ]
     },
     "execution_count": 42,
     "metadata": {},
     "output_type": "execute_result"
    },
    {
     "data": {
      "image/png": "[encoded data removed]",
      "text/plain": [
       "<Figure size 432x360 with 2 Axes>"
      ]
     },
     "metadata": {
      "needs_background": "light"
     },
     "output_type": "display_data"
    }
   ],
   "source": [
    "# plot diagrams\n",
    "factor1 = 'Printing Speed'\n",
    "factor2 = 'Fibre Feed Rate'\n",
    "\n",
    "mean_df = a5_df[a5_df['Printing Temperature']==270].groupby([factor1,factor2]).mean().reset_index()\n",
    "flights = mean_df.pivot(factor1,factor2, \"Score\")\n",
    "\n",
    "# Draw a heatmap with the numeric values in each cell\n",
    "f, ax = plt.subplots(figsize=(6, 5))\n",
    "sns.heatmap(flights, annot=True,linewidths=.5, ax=ax)# fmt=\"d\", "
   ]
  },
  {
   "cell_type": "code",
   "execution_count": 43,
   "id": "6ac7d3ed",
   "metadata": {},
   "outputs": [
    {
     "data": {
      "text/html": [
       "<div>\n",
       "<style scoped>\n",
       "    .dataframe tbody tr th:only-of-type {\n",
       "        vertical-align: middle;\n",
       "    }\n",
       "\n",
       "    .dataframe tbody tr th {\n",
       "        vertical-align: top;\n",
       "    }\n",
       "\n",
       "    .dataframe thead th {\n",
       "        text-align: right;\n",
       "    }\n",
       "</style>\n",
       "<table border=\"1\" class=\"dataframe\">\n",
       "  <thead>\n",
       "    <tr style=\"text-align: right;\">\n",
       "      <th>Fibre Feed Rate</th>\n",
       "      <th>0.8</th>\n",
       "      <th>0.9</th>\n",
       "      <th>1.0</th>\n",
       "      <th>1.1</th>\n",
       "    </tr>\n",
       "    <tr>\n",
       "      <th>Printing Speed</th>\n",
       "      <th></th>\n",
       "      <th></th>\n",
       "      <th></th>\n",
       "      <th></th>\n",
       "    </tr>\n",
       "  </thead>\n",
       "  <tbody>\n",
       "    <tr>\n",
       "      <th>120</th>\n",
       "      <td>NaN</td>\n",
       "      <td>NaN</td>\n",
       "      <td>NaN</td>\n",
       "      <td>0.740652</td>\n",
       "    </tr>\n",
       "    <tr>\n",
       "      <th>280</th>\n",
       "      <td>NaN</td>\n",
       "      <td>NaN</td>\n",
       "      <td>0.241189</td>\n",
       "      <td>NaN</td>\n",
       "    </tr>\n",
       "    <tr>\n",
       "      <th>440</th>\n",
       "      <td>NaN</td>\n",
       "      <td>0.129064</td>\n",
       "      <td>NaN</td>\n",
       "      <td>NaN</td>\n",
       "    </tr>\n",
       "    <tr>\n",
       "      <th>600</th>\n",
       "      <td>0.0</td>\n",
       "      <td>NaN</td>\n",
       "      <td>NaN</td>\n",
       "      <td>NaN</td>\n",
       "    </tr>\n",
       "  </tbody>\n",
       "</table>\n",
       "</div>"
      ],
      "text/plain": [
       "Fibre Feed Rate  0.8       0.9       1.0       1.1\n",
       "Printing Speed                                    \n",
       "120              NaN       NaN       NaN  0.740652\n",
       "280              NaN       NaN  0.241189       NaN\n",
       "440              NaN  0.129064       NaN       NaN\n",
       "600              0.0       NaN       NaN       NaN"
      ]
     },
     "execution_count": 43,
     "metadata": {},
     "output_type": "execute_result"
    }
   ],
   "source": [
    "flights"
   ]
  },
  {
   "cell_type": "code",
   "execution_count": 52,
   "id": "f0536746",
   "metadata": {},
   "outputs": [
    {
     "data": {
      "text/plain": [
       "<AxesSubplot:xlabel='Fibre Feed Rate', ylabel='Printing Speed'>"
      ]
     },
     "execution_count": 52,
     "metadata": {},
     "output_type": "execute_result"
    },
    {
     "data": {
      "image/png": "[encoded data removed]",
      "text/plain": [
       "<Figure size 432x360 with 2 Axes>"
      ]
     },
     "metadata": {
      "needs_background": "light"
     },
     "output_type": "display_data"
    }
   ],
   "source": [
    "# plot diagrams\n",
    "factor1 = 'Printing Speed'\n",
    "factor2 = 'Fibre Feed Rate'\n",
    "\n",
    "mean_df = a10_df[a10_df['Printing Temperature']==240].groupby([factor1,factor2]).mean().reset_index()\n",
    "flights = mean_df.pivot(factor1,factor2, \"Score\")\n",
    "\n",
    "# Draw a heatmap with the numeric values in each cell\n",
    "f, ax = plt.subplots(figsize=(6, 5))\n",
    "sns.heatmap(flights, annot=True,linewidths=.5, ax=ax)# fmt=\"d\", "
   ]
  },
  {
   "cell_type": "code",
   "execution_count": null,
   "id": "d4552819",
   "metadata": {},
   "outputs": [],
   "source": []
  },
  {
   "cell_type": "code",
   "execution_count": null,
   "id": "2a7e0bdd",
   "metadata": {},
   "outputs": [],
   "source": []
  },
  {
   "cell_type": "code",
   "execution_count": 61,
   "id": "f898457d",
   "metadata": {},
   "outputs": [
    {
     "data": {
      "text/plain": [
       "<AxesSubplot:xlabel='Section', ylabel='Arc Printing Speed'>"
      ]
     },
     "execution_count": 61,
     "metadata": {},
     "output_type": "execute_result"
    },
    {
     "data": {
      "image/png": "[encoded data removed]",
      "text/plain": [
       "<Figure size 432x360 with 2 Axes>"
      ]
     },
     "metadata": {
      "needs_background": "light"
     },
     "output_type": "display_data"
    }
   ],
   "source": [
    "# plot diagrams\n",
    "factor1 = 'Arc Printing Speed'\n",
    "factor2 = 'Section'\n",
    "mean_df = df.groupby([factor1,factor2]).mean().reset_index()\n",
    "flights = mean_df.pivot(factor1,factor2, \"Score\")\n",
    "\n",
    "# Draw a heatmap with the numeric values in each cell\n",
    "f, ax = plt.subplots(figsize=(6, 5))\n",
    "sns.heatmap(flights, annot=True,linewidths=.5, ax=ax)# fmt=\"d\", "
   ]
  },
  {
   "cell_type": "code",
   "execution_count": 62,
   "id": "b4aadc98",
   "metadata": {},
   "outputs": [
    {
     "data": {
      "text/plain": [
       "<AxesSubplot:xlabel='Section', ylabel='Arc Fibre Feed Rate'>"
      ]
     },
     "execution_count": 62,
     "metadata": {},
     "output_type": "execute_result"
    },
    {
     "data": {
      "image/png": "[encoded data removed]",
      "text/plain": [
       "<Figure size 432x360 with 2 Axes>"
      ]
     },
     "metadata": {
      "needs_background": "light"
     },
     "output_type": "display_data"
    }
   ],
   "source": [
    "# plot diagrams\n",
    "factor1 = 'Arc Fibre Feed Rate'\n",
    "factor2 = 'Section'\n",
    "mean_df = df.groupby([factor1,factor2]).mean().reset_index()\n",
    "flights = mean_df.pivot(factor1,factor2, \"Score\")\n",
    "\n",
    "# Draw a heatmap with the numeric values in each cell\n",
    "f, ax = plt.subplots(figsize=(6, 5))\n",
    "sns.heatmap(flights, annot=True,linewidths=.5, ax=ax)# fmt=\"d\", "
   ]
  },
  {
   "cell_type": "code",
   "execution_count": 64,
   "id": "4aaedef0",
   "metadata": {},
   "outputs": [
    {
     "data": {
      "text/plain": [
       "<AxesSubplot:xlabel='Printing Speed', ylabel='Radius'>"
      ]
     },
     "execution_count": 64,
     "metadata": {},
     "output_type": "execute_result"
    },
    {
     "data": {
      "image/png": "[encoded data removed]",
      "text/plain": [
       "<Figure size 432x360 with 2 Axes>"
      ]
     },
     "metadata": {
      "needs_background": "light"
     },
     "output_type": "display_data"
    }
   ],
   "source": [
    "# plot diagrams\n",
    "factor1 = 'Radius'\n",
    "factor2 = 'Printing Speed'\n",
    "mean_df = df.groupby([factor1,factor2]).mean().reset_index()\n",
    "flights = mean_df.pivot(factor1,factor2, \"Score\")\n",
    "\n",
    "# Draw a heatmap with the numeric values in each cell\n",
    "f, ax = plt.subplots(figsize=(6, 5))\n",
    "sns.heatmap(flights, annot=True,linewidths=.5, ax=ax)# fmt=\"d\", "
   ]
  },
  {
   "cell_type": "code",
   "execution_count": 26,
   "id": "d6384322",
   "metadata": {},
   "outputs": [
    {
     "data": {
      "text/plain": [
       "<AxesSubplot:xlabel='fibre feed rate', ylabel='Radius'>"
      ]
     },
     "execution_count": 26,
     "metadata": {},
     "output_type": "execute_result"
    },
    {
     "data": {
      "image/png": "[encoded data removed]",
      "text/plain": [
       "<Figure size 432x360 with 2 Axes>"
      ]
     },
     "metadata": {
      "needs_background": "light"
     },
     "output_type": "display_data"
    }
   ],
   "source": [
    "# plot diagrams\n",
    "factor1 = 'Radius'\n",
    "factor2 = 'fibre feed rate'\n",
    "mean_df = df.groupby([factor1,factor2]).mean().reset_index()\n",
    "flights = mean_df.pivot(factor1,factor2, \"Score\")\n",
    "\n",
    "# Draw a heatmap with the numeric values in each cell\n",
    "f, ax = plt.subplots(figsize=(6, 5))\n",
    "sns.heatmap(flights, annot=True,linewidths=.5, ax=ax)# fmt=\"d\", "
   ]
  },
  {
   "cell_type": "code",
   "execution_count": 27,
   "id": "08513156",
   "metadata": {
    "scrolled": true
   },
   "outputs": [
    {
     "data": {
      "text/plain": [
       "<AxesSubplot:xlabel='fibre feed rate', ylabel='printing speed'>"
      ]
     },
     "execution_count": 27,
     "metadata": {},
     "output_type": "execute_result"
    },
    {
     "data": {
      "image/png": "[encoded data removed]",
      "text/plain": [
       "<Figure size 432x360 with 2 Axes>"
      ]
     },
     "metadata": {
      "needs_background": "light"
     },
     "output_type": "display_data"
    }
   ],
   "source": [
    "# plot diagrams\n",
    "factor1 = 'printing speed'\n",
    "factor2 = 'fibre feed rate'\n",
    "mean_df = df.groupby([factor1,factor2]).mean().reset_index()\n",
    "flights = mean_df.pivot(factor1,factor2, \"Score\")\n",
    "\n",
    "# Draw a heatmap with the numeric values in each cell\n",
    "f, ax = plt.subplots(figsize=(6, 5))\n",
    "sns.heatmap(flights, annot=True,linewidths=.5, ax=ax)# fmt=\"d\", "
   ]
  },
  {
   "cell_type": "code",
   "execution_count": null,
   "id": "ec71907a",
   "metadata": {},
   "outputs": [],
   "source": []
  },
  {
   "cell_type": "code",
   "execution_count": null,
   "id": "e0e2e62a",
   "metadata": {},
   "outputs": [],
   "source": []
  },
  {
   "cell_type": "code",
   "execution_count": null,
   "id": "c3ce8543",
   "metadata": {},
   "outputs": [],
   "source": []
  },
  {
   "cell_type": "code",
   "execution_count": null,
   "id": "9153e59b",
   "metadata": {},
   "outputs": [],
   "source": []
  },
  {
   "cell_type": "code",
   "execution_count": 69,
   "id": "5bb51ddc",
   "metadata": {},
   "outputs": [
    {
     "data": {
      "text/plain": [
       "<AxesSubplot:xlabel='printing speed', ylabel='printing temperature'>"
      ]
     },
     "execution_count": 69,
     "metadata": {},
     "output_type": "execute_result"
    },
    {
     "data": {
      "image/png": "[encoded data removed]",
      "text/plain": [
       "<Figure size 648x576 with 2 Axes>"
      ]
     },
     "metadata": {},
     "output_type": "display_data"
    }
   ],
   "source": [
    "# plot diagrams\n",
    "\n",
    "# sns.set_theme(style=\"ticks\")\n",
    "df = pd.read_excel('parameter_AP_summary.xlsx', sheet_name='Sheet2')\n",
    "\n",
    "flights = df.pivot(\"printing temperature\", \"printing speed\", \"AP_arc\")\n",
    "\n",
    "# Draw a heatmap with the numeric values in each cell\n",
    "f, ax = plt.subplots(figsize=(9, 8))\n",
    "sns.heatmap(flights, annot=True,linewidths=.5, ax=ax)# fmt=\"d\", "
   ]
  },
  {
   "cell_type": "code",
   "execution_count": 70,
   "id": "64fea033",
   "metadata": {},
   "outputs": [
    {
     "data": {
      "text/plain": [
       "<AxesSubplot:xlabel='printing speed', ylabel='printing temperature'>"
      ]
     },
     "execution_count": 70,
     "metadata": {},
     "output_type": "execute_result"
    },
    {
     "data": {
      "image/png": "[encoded data removed]",
      "text/plain": [
       "<Figure size 648x576 with 2 Axes>"
      ]
     },
     "metadata": {},
     "output_type": "display_data"
    }
   ],
   "source": [
    "# plot diagrams\n",
    "\n",
    "# sns.set_theme(style=\"ticks\")\n",
    "df = pd.read_excel('parameter_AP_summary.xlsx', sheet_name='Sheet2')\n",
    "\n",
    "flights = df.pivot(\"printing temperature\", \"printing speed\", \"AP_after\")\n",
    "\n",
    "# Draw a heatmap with the numeric values in each cell\n",
    "f, ax = plt.subplots(figsize=(9, 8))\n",
    "sns.heatmap(flights, annot=True,linewidths=.5, ax=ax)# fmt=\"d\", "
   ]
  },
  {
   "cell_type": "code",
   "execution_count": 2,
   "id": "0834fd91",
   "metadata": {},
   "outputs": [],
   "source": [
    "# best fiber extraction: Threshold Binary70 + Guassian Otsu's Thresholding\n",
    "# best centre line: Threshold Binary70inv + closing + skel + remove small 1 contours\n",
    "# 先threshould 根据边界框框crop crop完了直接用binary的图片提取12个trajectory 然后每个trajetory和GT的进行\n",
    "# overlay 计算不同粗细的precision\n",
    "# 还有一个metric就是RMSE计算pred每个pixel的位置和最近的GT的pixel的欧拉距离 但是不是很好算 要么就算了。\n",
    "# 应该先提取fiber 然后croped了再分别不同trajectory再识别中心线 没有合适的metric就是说。"
   ]
  },
  {
   "cell_type": "code",
   "execution_count": 2,
   "id": "23b4de62",
   "metadata": {},
   "outputs": [],
   "source": [
    "# 提取fiber部分\n",
    "def extract_cline_fiber(pic):\n",
    "    ret,thresh1 = cv2.threshold(pic, 210, 255, cv2.THRESH_BINARY_INV)\n",
    "    blur = cv2.GaussianBlur(thresh1, (5,5), 0)#blur的size可以修改\n",
    "    _, th3 = cv2.threshold(blur, 0, 255, cv2.THRESH_BINARY + cv2.THRESH_OTSU)\n",
    "    return th3"
   ]
  },
  {
   "cell_type": "code",
   "execution_count": 6,
   "id": "c0328ff2",
   "metadata": {},
   "outputs": [],
   "source": [
    "# 提取12个图片的黑白版本\n",
    "# files = glob('12 fiber pics\\\\*.*')\n",
    "# for file in files:\n",
    "#     name = list(file.split('\\\\'))[-1]\n",
    "#     pic = cv2.imread(file, 0)\n",
    "#     new_pic = extract_cline_fiber(pic)\n",
    "#     cv2.imwrite('12 fiber pics\\\\extracted_' + name, new_pic)"
   ]
  },
  {
   "cell_type": "code",
   "execution_count": 10,
   "id": "c84fd41d",
   "metadata": {},
   "outputs": [],
   "source": [
    "# 根据12个图片的分别的每个trajectory的涂抹消除版本提取出本来的面目\n",
    "def get_xor_traj(pic_name):\n",
    "    pic = cv2.imread('12 fiber pics\\\\' + pic_name, 0)\n",
    "    ori_name = pic_name[:-7]\n",
    "    ori_pic = cv2.imread('12 fiber pics\\\\' + ori_name + '.bmp', 0)\n",
    "    new_pic = ori_pic - pic\n",
    "    cv2.imwrite('trajectorys\\\\' + pic_name, new_pic)\n",
    "    \n",
    "# files = glob('12 fiber pics\\\\*.*')\n",
    "# for file in files:\n",
    "#     name = list(file.split('\\\\'))[-1]\n",
    "#     if (name[-5] == 'i') or (name[-5] == 'm') or (name[-5] == 'o'):\n",
    "#         get_xor_traj(name)"
   ]
  },
  {
   "cell_type": "code",
   "execution_count": 19,
   "id": "9faa6a52",
   "metadata": {},
   "outputs": [],
   "source": [
    "# 将修改好的trajectory图片改成binary\n",
    "def convert_binary(pic_name):\n",
    "    pic = cv2.imread('fixed_trajectorys\\\\' + pic_name, 0)\n",
    "    new_pic =  (np.round(pic//255.))*255\n",
    "    cv2.imwrite('binary_trajectorys\\\\' + pic_name, new_pic)\n",
    "    \n",
    "# files = glob('fixed_trajectorys\\\\*.*')\n",
    "# for file in files:\n",
    "#     name = list(file.split('\\\\'))[-1]\n",
    "#     convert_binary(name)"
   ]
  },
  {
   "cell_type": "code",
   "execution_count": 44,
   "id": "74c700d0",
   "metadata": {},
   "outputs": [
    {
     "name": "stdout",
     "output_type": "stream",
     "text": [
      "test13,14,15,16-v3.bmp\n"
     ]
    },
    {
     "data": {
      "image/png": "[encoded data removed]",
      "text/plain": [
       "<Figure size 1440x720 with 2 Axes>"
      ]
     },
     "metadata": {
      "needs_background": "light"
     },
     "output_type": "display_data"
    },
    {
     "data": {
      "text/plain": [
       "True"
      ]
     },
     "execution_count": 44,
     "metadata": {},
     "output_type": "execute_result"
    }
   ],
   "source": [
    "# 根据框截图图片的function 从image变成croped\n",
    "# source code from https://stackoverflow.com/questions/22656698/perspective-correction-in-opencv-using-python\n",
    "# four corner pixel location found manually with https://yangcha.github.io/iview/iview.html\n",
    "def unwarp(img, src, dst):\n",
    "    h, w = img.shape[:2]\n",
    "    # use cv2.getPerspectiveTransform() to get M, the transform matrix, and Minv, the inverse\n",
    "    M = cv2.getPerspectiveTransform(src, dst)\n",
    "    # use cv2.warpPerspective() to warp your image to a top-down view\n",
    "    warped = cv2.warpPerspective(img, M, (1160, 630), flags=cv2.INTER_LINEAR)\n",
    "\n",
    "    f, (ax1, ax2) = plt.subplots(1, 2, figsize=(20, 10))\n",
    "    f.subplots_adjust(hspace=.2, wspace=.05)\n",
    "    ax1.imshow(img)\n",
    "    x = [src[0][0], src[2][0], src[3][0], src[1][0], src[0][0]]\n",
    "    y = [src[0][1], src[2][1], src[3][1], src[1][1], src[0][1]]\n",
    "    ax1.plot(x, y, color='red', alpha=0.4, linewidth=3, solid_capstyle='round', zorder=2)\n",
    "    ax1.set_ylim([h, 0])\n",
    "    ax1.set_xlim([0, w])\n",
    "    ax1.set_title('Original Image', fontsize=30)\n",
    "    ax2.imshow(cv2.flip(warped, 1))\n",
    "    ax2.set_title('Unwarped Image', fontsize=30)\n",
    "    plt.show()\n",
    "    return cv2.rotate(cv2.flip(warped, 1), cv2.ROTATE_180)\n",
    "#     else:\n",
    "#         return warped, M\n",
    "\n",
    "name = 'extracted_test13,14,15,16-v3.bmp'\n",
    "im = cv2.imread(\"12 fiber pics\\\\\" + name)\n",
    "orgi_name = list(name.split('_'))[-1]\n",
    "print(orgi_name)\n",
    "# w, h = im.shape[0], im.shape[1]\n",
    "# We will first manually select the source points \n",
    "# we will select the destination point which will map the source points in\n",
    "# original image to destination points in unwarped image\n",
    "\n",
    "src = np.float32([(86, 304),\n",
    "                  (1918, 322),\n",
    "                  (86, 1299),\n",
    "                  (1902, 1312)])\n",
    "\n",
    "dst = np.float32([(1160, 0),\n",
    "                  (0, 0),\n",
    "                  (1160, 630),\n",
    "                  (0, 630)])\n",
    "\n",
    "warped = unwarp(im, src, dst)\n",
    "\n",
    "cv2.imwrite(\"12 fiber pics\\\\croped_\" + orgi_name, warped)"
   ]
  },
  {
   "cell_type": "code",
   "execution_count": 3,
   "id": "3fe8f5e6",
   "metadata": {},
   "outputs": [],
   "source": [
    "# 根据evaluate的曲线位置（0-11）和evaluate的range（1,2,3意味着几倍）生成取样区域\n",
    "def eva_area(img, pos=1, rang=1):\n",
    "    \n",
    "    num = pos//3\n",
    "    loc = pos%3\n",
    "    center = 130+300*num\n",
    "    pic = np.zeros([630, 1165])# 这里为了calibrate改了宽度\n",
    "    if loc == 2:\n",
    "        R = 25\n",
    "    elif loc == 1:\n",
    "        R = 50\n",
    "    elif loc == 0:\n",
    "        R = 100\n",
    "    \n",
    "    thick = np.round(rang*6.5).astype(int)\n",
    "    cv2.circle(pic, (center,130), R, 255, thick)\n",
    "    cv2.rectangle(pic, (center-R-thick,130), (center+R+thick,130+R+thick), 0, -1)\n",
    "    cv2.line(pic, (center-R,130), (center-R,130+470), 255, thick) \n",
    "    cv2.line(pic, (center+R,130), (center+R,130+470), 255, thick) \n",
    "    \n",
    "    if img.shape[1]/img.shape[0] != 116/63:\n",
    "        print('Image shape is not defult:', img.shape)\n",
    "    pic = np.round(cv2.resize(pic, (img.shape[1],img.shape[0]))/255.)*255\n",
    "    \n",
    "    return pic"
   ]
  },
  {
   "cell_type": "code",
   "execution_count": 4,
   "id": "a708b495",
   "metadata": {},
   "outputs": [],
   "source": [
    "# 输入一个trajectory图片和一个GT图片 输出precision\n",
    "def calc_pres(GT, pred):\n",
    "    GT = np.round(GT/255.).astype(int)\n",
    "    pred = np.round(pred/255.).astype(int)\n",
    "    tot = np.count_nonzero(pred)\n",
    "    TP = np.count_nonzero(GT&pred)\n",
    "\n",
    "    if tot > 0:\n",
    "        return TP/tot\n",
    "    else:\n",
    "        print('Print is too bad, please ditch this trajectory.')\n",
    "        return 0"
   ]
  },
  {
   "cell_type": "code",
   "execution_count": 5,
   "id": "5b60a24a",
   "metadata": {},
   "outputs": [],
   "source": [
    "# 输入名字 输出pos, x, y\n",
    "def get_numbers(traj_name):\n",
    "    pred = cv2.imread('binary_trajectorys\\\\' + traj_name, 0)\n",
    "    height, width = pred.shape[0],pred.shape[1]\n",
    "    \n",
    "    n1 = int(traj_name[-6])\n",
    "    n2 = traj_name[-5]\n",
    "    if n2 == 'o':\n",
    "        n2 = 0\n",
    "    elif n2 == 'm':\n",
    "        n2 = 1\n",
    "    elif n2 == 'i':\n",
    "        n2 = 2\n",
    "    pos = (n1-1)*3+n2\n",
    "    x = 130+300*(pos//3)\n",
    "    y = int(13/63*height)\n",
    "    \n",
    "    return pos, x, y"
   ]
  },
  {
   "cell_type": "code",
   "execution_count": 6,
   "id": "2d12d51f",
   "metadata": {},
   "outputs": [],
   "source": [
    "# 计算整个trajectory的AP\n",
    "# 输入一个trajectory的图片名 输出从range1-5曲线下的面积\n",
    "def get_AP(traj_name):\n",
    "    AP = 0\n",
    "    pred = cv2.imread('binary_trajectorys\\\\' + traj_name, 0)\n",
    "    pos, _, _ = get_numbers(traj_name)\n",
    "\n",
    "    for i in range(5):\n",
    "        GT = eva_area(pred, pos, i+1)\n",
    "        Pres = calc_pres(GT, pred)\n",
    "        AP += Pres*0.2\n",
    "        if i == 4 and Pres < 0.99:\n",
    "            print(str(traj_name[-6:-4]), 'This trajectory requires larger range.')\n",
    "    return AP"
   ]
  },
  {
   "cell_type": "code",
   "execution_count": 7,
   "id": "c284ba5e",
   "metadata": {},
   "outputs": [],
   "source": [
    "# 计算某个trajectory单个section的AP\n",
    "# 输入12个叠在一起的trajectory图片，某trajectory的位置和哪部分线段（前，中，后） 输出从range1-5曲线下的面积\n",
    "def get_AP_section(traj_name, section='arc'):\n",
    "    AP = 0\n",
    "    pred = cv2.imread('binary_trajectorys\\\\' + traj_name, 0)\n",
    "    pos, x, y = get_numbers(traj_name)\n",
    "    \n",
    "    height, width = pred.shape\n",
    "    for i in range(5):\n",
    "        GT = eva_area(pred, pos, i+1)\n",
    "        if section == 'arc':\n",
    "            pred_s = pred[:y, :]\n",
    "            GT_s = GT[:y, :]\n",
    "        elif section == 'before':\n",
    "            pred_s = pred[y:, :x]\n",
    "            GT_s = GT[y:, :x]\n",
    "        elif section == 'after':\n",
    "            pred_s = pred[y:, x:]\n",
    "            GT_s = GT[y:, x:]\n",
    "        else:\n",
    "            print('Please input before, arc or after in section.')\n",
    "        cv2.imwrite('GTtest.png', GT_s)\n",
    "        cv2.imwrite('Predtest.png', pred_s)\n",
    "        Pres = calc_pres(GT_s, pred_s)\n",
    "        AP += Pres*0.2\n",
    "        if i == 4 and Pres < 0.99:\n",
    "            print(str(traj_name[-6:-4]), 'This trajectory requires larger range.')\n",
    "    return AP"
   ]
  },
  {
   "cell_type": "code",
   "execution_count": 8,
   "id": "4ab745fd",
   "metadata": {},
   "outputs": [],
   "source": [
    "# 可视化单个trajectory AP并分割三个区域，打上AP score\n",
    "def view_AP(traj_name, rang=1):\n",
    "    pred = cv2.imread('binary_trajectorys\\\\' + traj_name, 0)\n",
    "    height, width = pred.shape[0],pred.shape[1]\n",
    "    blk = np.zeros([height, width])\n",
    "    text_blk = np.zeros([width, height,3])\n",
    "    pos, x, y = get_numbers(traj_name)\n",
    "    \n",
    "    GT = eva_area(pred, pos, rang)\n",
    "    pred = pred.reshape([height, width,1])\n",
    "    GT = GT.reshape([height, width,1])\n",
    "    blk = blk.reshape([height, width,1])\n",
    "    \n",
    "    AP_before = get_AP_section(traj_name, section='before')\n",
    "    AP_arc = get_AP_section(traj_name, section='arc')\n",
    "    AP_after = get_AP_section(traj_name, section='after')\n",
    "\n",
    "    overlay = np.concatenate([blk, pred, GT], axis=-1)\n",
    "    cv2.line(overlay, (x, y), (x, height), (255,255,255), 1) \n",
    "    cv2.line(overlay, (0, y), (width, y), (255,255,255), 1) \n",
    "\n",
    "    cv2.putText(text_blk, 'BeforeAP:' + str(round(AP_before, 2)), (200, x-110), cv2.FONT_HERSHEY_SIMPLEX, \n",
    "                   0.7, (255,255,255), 1, cv2.LINE_AA)\n",
    "    cv2.putText(overlay, 'ArcAP:' + str(round(AP_arc, 2)), (x-60, 20), cv2.FONT_HERSHEY_SIMPLEX, \n",
    "                   0.7, (255,255,255), 1, cv2.LINE_AA)\n",
    "    cv2.putText(text_blk, 'AfterAP:' + str(round(AP_after, 2)), (200, x+120), cv2.FONT_HERSHEY_SIMPLEX, \n",
    "                   0.7, (255,255,255), 1, cv2.LINE_AA)\n",
    "    text_blk = cv2.rotate(text_blk, cv2.cv2.ROTATE_90_COUNTERCLOCKWISE)\n",
    "    overlay = overlay + text_blk\n",
    "    \n",
    "#     cv2.imshow(str(traj_name), overlay)\n",
    "#     cv2.waitKey(0)\n",
    "    return AP_before, AP_arc, AP_after, overlay   "
   ]
  },
  {
   "cell_type": "code",
   "execution_count": 14,
   "id": "7b31f84d",
   "metadata": {
    "scrolled": true
   },
   "outputs": [],
   "source": [
    "# 图也保存数据保存excel\n",
    "# names = []\n",
    "# APs_before = []\n",
    "# APs_arc = []\n",
    "# APs_after = []\n",
    "# files = glob('binary_trajectorys\\\\*.*')\n",
    "# for file in files:\n",
    "#     name = list(file.split('\\\\'))[-1]\n",
    "#     names.append(name)\n",
    "#     AP_before, AP_arc, AP_after, overlay = view_AP(name, rang=1)\n",
    "#     APs_before.append(AP_before)\n",
    "#     APs_arc.append(AP_arc)\n",
    "#     APs_after.append(AP_after)\n",
    "#     cv2.imwrite('AP_results\\\\' + name, overlay)\n",
    "    \n",
    "# df = pd.DataFrame({'Pic_name': names, 'AP_before': APs_before, 'AP_arc': APs_arc, 'AP_after': APs_after})\n",
    "# df.to_excel('AP summary.xlsx')"
   ]
  },
  {
   "cell_type": "code",
   "execution_count": null,
   "id": "d5f4d79f",
   "metadata": {},
   "outputs": [],
   "source": []
  },
  {
   "cell_type": "code",
   "execution_count": null,
   "id": "69ce5d1d",
   "metadata": {},
   "outputs": [],
   "source": []
  },
  {
   "cell_type": "code",
   "execution_count": 183,
   "id": "f94e2a0b",
   "metadata": {},
   "outputs": [
    {
     "data": {
      "text/plain": [
       "True"
      ]
     },
     "execution_count": 183,
     "metadata": {},
     "output_type": "execute_result"
    }
   ],
   "source": [
    "# 用来debug的生成的GT，一会儿就删\n",
    "# pic = np.zeros([630, 1165])\n",
    "# for pos in range(12):\n",
    "#     num = pos//3\n",
    "#     loc = pos%3\n",
    "#     center = 130+300*num\n",
    "    \n",
    "#     if loc == 2:\n",
    "#         R = 25\n",
    "#     elif loc == 1:\n",
    "#         R = 50\n",
    "#     elif loc == 0:\n",
    "#         R = 100\n",
    "    \n",
    "#     thick = np.round(6.5).astype(int)\n",
    "#     cv2.circle(pic, (center,130), R, 255, thick)\n",
    "#     cv2.rectangle(pic, (center-R-thick,130), (center+R+thick,130+R+thick), 0, -1)\n",
    "#     cv2.line(pic, (center-R,130), (center-R,130+470), 255, thick) \n",
    "#     cv2.line(pic, (center+R,130), (center+R,130+470), 255, thick) \n",
    "\n",
    "# GT = np.round(cv2.resize(pic, (1160,630))/255.)*255\n",
    "# cv2.imwrite('GT.bmp', GT)"
   ]
  },
  {
   "cell_type": "code",
   "execution_count": 184,
   "id": "fbb1eb35",
   "metadata": {},
   "outputs": [],
   "source": [
    "# 用来debug把GT和收集的数据重叠上看看的\n",
    "# files = glob('12 fiber pics\\\\croped*.*')\n",
    "# blk = np.zeros([630, 1160])\n",
    "# for file in files:\n",
    "#     name = list(file.split('\\\\'))[-1]\n",
    "#     if name[-6] == 'v':\n",
    "#         sample = cv2.imread(file, 0)\n",
    "#         overlay = np.concatenate([blk.reshape([630, 1160,1]), sample.reshape([630, 1160,1]), GT.reshape([630, 1160,1])], axis=-1)\n",
    "#         cv2.imwrite('trajectory_debug\\\\' + name, overlay)"
   ]
  },
  {
   "cell_type": "code",
   "execution_count": 3,
   "id": "e1fc9814",
   "metadata": {},
   "outputs": [],
   "source": [
    "# 不需要了\n",
    "# 输入crop的binary图片，输出12个trajectory叠在一起的图和对应的\n",
    "# def get_traj(pic):\n",
    "#     contours, hierarchy = cv2.findContours(pic, cv2.RETR_TREE, cv2.CHAIN_APPROX_SIMPLE)\n",
    "#     sorted_contours = sorted(contours, key=cv2.contourArea, reverse=True)\n",
    "#     lefts = []\n",
    "#     trajs = np.zeros([pic.shape[0],pic.shape[1],12])\n",
    "    \n",
    "#     for i in range(len(sorted_contours)):\n",
    "#         c = sorted_contours[i]\n",
    "#         area = cv2.contourArea(c)\n",
    "#         if (area < 100 and i < 12) or (area >= 100 and i >= 12):\n",
    "#             print('Disconnection may exist! Please check!')\n",
    "#         elif area >= 100 and i < 12:\n",
    "#             traj = cv2.drawContours(np.zeros(pic.shape),[c],0,255,-1)\n",
    "#             trajs[:,:,i] = traj\n",
    "#             l = np.where(traj!=0)[1].min()\n",
    "#             lefts.append(l)\n",
    "#         else:\n",
    "#             pass\n",
    "    \n",
    "#     ordered = np.zeros(trajs.shape)\n",
    "#     n = 0\n",
    "#     for i in np.argsort(np.array(lefts)):\n",
    "#         ordered[:,:,n] = trajs[:,:,i]\n",
    "#         n+=1\n",
    "        \n",
    "#     return ordered"
   ]
  },
  {
   "cell_type": "code",
   "execution_count": 7,
   "id": "49a64177",
   "metadata": {},
   "outputs": [],
   "source": [
    "# 从左到右四个是不同的参数 所以这部分用不到了\n",
    "# 输入整个trajectory图片和该trajectory的位置 输出从range1-5曲线下的面积\n",
    "# def get_meanAP(ordered, trajectory='outer'):\n",
    "#     if trajectory == 'outer':\n",
    "#         poses = np.array([0,3,6,9])\n",
    "#     elif trajectory == 'middle':\n",
    "#         poses = np.array([0,3,6,9])+1\n",
    "#     elif trajectory == 'inner':\n",
    "#         poses = np.array([0,3,6,9])+2\n",
    "#     else:\n",
    "#         print('Please define trajectory inner, middle or outer.')\n",
    "#     APs = []\n",
    "#     for pos in poses:\n",
    "#         APs.append(get_AP(ordered[:,:,pos], pos))\n",
    "#     return sum(APs)/len(APs)"
   ]
  },
  {
   "cell_type": "code",
   "execution_count": 6,
   "id": "804ce7e7",
   "metadata": {},
   "outputs": [],
   "source": [
    "# 旧的版本 现在应该没用了\n",
    "# 根据evaluate的曲线位置和evaluate的range生成取样区域\n",
    "# def eva_area(img, num=1, loc=1, thick=1):\n",
    "#     center = 130+300*(num-1)\n",
    "#     pic = np.zeros([630, 1160])\n",
    "#     if loc == 1:\n",
    "#         R = 25\n",
    "#     elif loc == 2:\n",
    "#         R = 50\n",
    "#     elif loc == 3:\n",
    "#         R = 100\n",
    "#     else:\n",
    "#         print('Please choose location 1, 2 or 3.')\n",
    "        \n",
    "#     cv2.circle(pic, (center,130), R, 255, thick)\n",
    "#     cv2.rectangle(pic, (center-R-thick,130), (center+R+thick,130+R+thick), 0, -1)\n",
    "#     cv2.line(pic, (center-R,130), (center-R,130+470), 255, thick) \n",
    "#     cv2.line(pic, (center+R,130), (center+R,130+470), 255, thick) \n",
    "    \n",
    "#     if img.shape[1]/img.shape[0] != 116/63:\n",
    "#         print('Image shape is not defult:', img.shape)\n",
    "#     pic = np.round(cv2.resize(pic, (img.shape[1],img.shape[0]))/255.)*255\n",
    "    \n",
    "#     return pic"
   ]
  },
  {
   "cell_type": "code",
   "execution_count": 2,
   "id": "4c6a8efd",
   "metadata": {},
   "outputs": [],
   "source": [
    "# 用来生成中心线的function\n",
    "# 源代码来源 http://opencvpython.blogspot.com/2012/05/skeletonization-using-opencv-python.html\n",
    "# def Skeletonization(img):\n",
    "#     size = np.size(img)\n",
    "#     skel = np.zeros(img.shape,np.uint8)\n",
    "#     element = cv2.getStructuringElement(cv2.MORPH_CROSS,(3,3))\n",
    "#     done = False\n",
    "\n",
    "#     while( not done):\n",
    "#         eroded = cv2.erode(img,element)\n",
    "#         temp = cv2.dilate(eroded,element)\n",
    "#         temp = cv2.subtract(img,temp)\n",
    "#         skel = cv2.bitwise_or(skel,temp)\n",
    "#         img = eroded.copy()\n",
    "\n",
    "#         zeros = size - cv2.countNonZero(img)\n",
    "#         if zeros==size:\n",
    "#             done = True\n",
    "\n",
    "#     return skel"
   ]
  },
  {
   "cell_type": "code",
   "execution_count": 48,
   "id": "10ec2368",
   "metadata": {},
   "outputs": [],
   "source": [
    "# 好像没用了 只取最大面积的12个部分的话\n",
    "# 移除只有一个pixel的噪音\n",
    "# def remove_1_noise(pic):\n",
    "#     contours, hierarchy = cv2.findContours(pic, cv2.RETR_TREE, cv2.CHAIN_APPROX_SIMPLE)\n",
    "#     threshold_blobs_area = 0\n",
    "\n",
    "#     for i in range(1, len(contours)):\n",
    "#         index_level = int(hierarchy[0][i][1])\n",
    "#         if index_level <= i:\n",
    "#             cnt = contours[i]\n",
    "#             area = cv2.contourArea(cnt)\n",
    "#             if area <= threshold_blobs_area:\n",
    "#                 cv2.drawContours(pic, [cnt], -1, 0, -1, 1)\n",
    "#     return pic"
   ]
  },
  {
   "cell_type": "code",
   "execution_count": null,
   "id": "21b39db2",
   "metadata": {},
   "outputs": [],
   "source": []
  },
  {
   "cell_type": "code",
   "execution_count": 290,
   "id": "5ad108ed",
   "metadata": {},
   "outputs": [
    {
     "name": "stdout",
     "output_type": "stream",
     "text": [
      "(630, 1160)\n"
     ]
    },
    {
     "data": {
      "text/plain": [
       "True"
      ]
     },
     "execution_count": 290,
     "metadata": {},
     "output_type": "execute_result"
    }
   ],
   "source": [
    "pic = cv2.imread('o1.bmp',0)\n",
    "print(pic.shape)\n",
    "skl = Skeletonization(pic)\n",
    "# skl = remove_1_noise(skl)\n",
    "cv2.imwrite('o1_clin.bmp', skl)"
   ]
  },
  {
   "cell_type": "code",
   "execution_count": 292,
   "id": "b23ab506",
   "metadata": {},
   "outputs": [],
   "source": [
    "# for i in range(ordered.shape[2]):\n",
    "#     traj = ordered[:,:,i]\n",
    "#     print(traj.shape)\n",
    "#     cline = Skeletonization(traj)\n",
    "#     cv2.imwrite('traj_'+str(i) + '.png', traj)\n",
    "#     cv2.imwrite('cline_'+str(i) + '.png', cline)"
   ]
  },
  {
   "cell_type": "code",
   "execution_count": 4,
   "id": "d9cff33a",
   "metadata": {},
   "outputs": [],
   "source": [
    "# 输入：原始图片 输出：fiber threshold和中心线\n",
    "def extract_cline_fiber(pic):\n",
    "    # 提取fiber部分\n",
    "    ret,thresh1 = cv2.threshold(pic, 210, 255, cv2.THRESH_BINARY_INV)\n",
    "    blur = cv2.GaussianBlur(thresh1, (5,5), 0)#blur的size可以修改\n",
    "    _, th3 = cv2.threshold(blur, 0, 255, cv2.THRESH_BINARY + cv2.THRESH_OTSU)\n",
    "#     cv2.imwrite(\"Guassian Otsu's Thresholding.bmp\", th3) \n",
    "    \n",
    "    # 提取centre line部分\n",
    "    kernel = np.ones((5,5), np.uint8)\n",
    "    ret,thresh1 = cv2.threshold(pic, 210, 255, cv2.THRESH_BINARY_INV)\n",
    "    closing = cv2.morphologyEx(thresh1, cv2.MORPH_CLOSE, kernel)\n",
    "    skel = Skeletonization(closing)\n",
    "    skel = remove_1_noise(skel)\n",
    "    \n",
    "    return th3, skel"
   ]
  },
  {
   "cell_type": "code",
   "execution_count": 5,
   "id": "99979532",
   "metadata": {},
   "outputs": [
    {
     "data": {
      "text/plain": [
       "True"
      ]
     },
     "execution_count": 5,
     "metadata": {},
     "output_type": "execute_result"
    }
   ],
   "source": [
    "# 一键提取center line和fiber的图\n",
    "pic = cv2.imread('220704.bmp',0)\n",
    "th3, skel = extract_cline_fiber(pic)\n",
    "cv2.imwrite('220704fibre.bmp', th3)\n",
    "cv2.imwrite('220704cline.bmp', skel)"
   ]
  },
  {
   "cell_type": "code",
   "execution_count": 7,
   "id": "1183ab99",
   "metadata": {},
   "outputs": [],
   "source": [
    "def get_contour_areas(contours):\n",
    "    # returns the areas of all contours as list\n",
    "    all_areas = []\n",
    "    for cnt in contours:\n",
    "        area = cv2.contourArea(cnt)\n",
    "        all_areas.append(area)\n",
    "    return all_areas"
   ]
  },
  {
   "cell_type": "code",
   "execution_count": 15,
   "id": "1f28ae86",
   "metadata": {},
   "outputs": [],
   "source": [
    "# # 对提取的截取好的（一定和GT重合的）fiber图片进行contour分每个trajectory\n",
    "# def get_trajectory(croped):\n",
    "#     edged = cv2.Canny(np.uint8(croped), 50, 200)\n",
    "#     contours, hierarchy = cv2.findContours(edged.copy(), cv2.RETR_EXTERNAL, cv2.CHAIN_APPROX_NONE)\n",
    "#     sorted_contours = sorted(contours, key=cv2.contourArea, reverse=True)\n",
    "#     areas = get_contour_areas(sorted_contours)\n",
    "#     blk_image = np.zeros(croped.shape)\n",
    "#     if len(areas) > 12:\n",
    "#         idx = 12-len(areas)\n",
    "#         if np.any(np.array(areas[idx:]) > 100):\n",
    "#             print('Disconnetion may exist, please check!')\n",
    "#         else:\n",
    "#             n = 0\n",
    "#             for c in sorted_contours:\n",
    "# #                 print(c)\n",
    "#                 cv2.drawContours(blk_image, c, -1, 170, cv2.FILLED)\n",
    "# #                 cv2.drawContours(blk_image,[c],0,(0,255,0),-1)\n",
    "# #                 cv2.drawContours(blk_image, c, 0, 170, cv2.FILLED)\n",
    "# #                 cv2.waitKey(0)\n",
    "#                 cv2.imwrite('contour_' + str(n) + '.png', blk_image)\n",
    "#                 n+=1\n",
    "#     elif len(areas) < 12:\n",
    "#         print('Only %d trajectory detected, please check!' %len(areas))\n",
    "#     print (get_contour_areas(sorted_contours))\n",
    "#     print (\"Number of contours found = \", len(contours))"
   ]
  },
  {
   "cell_type": "code",
   "execution_count": 38,
   "id": "da8e5f71",
   "metadata": {},
   "outputs": [],
   "source": [
    "# 尝试画出来area的新的对提取的截取好的（一定和GT重合的）fiber图片进行contour分每个trajectory\n",
    "def get_trajectory(croped):\n",
    "#     print(np.unique(croped))\n",
    "    edged = cv2.Canny(np.uint8(croped), 50, 200)\n",
    "    ret,thresh1 = cv2.threshold(np.uint8(croped), 210, 255, cv2.THRESH_BINARY_INV)\n",
    "    cv2.imwrite('thistimethresh1.png', thresh1)\n",
    "#     contours, hierarchy = cv2.findContours(thresh1.copy(), cv2.RETR_LIST, cv2.CHAIN_APPROX_NONE)\n",
    "    contours, hierarchy = cv2.findContours(edged.copy(), cv2.RETR_EXTERNAL, cv2.CHAIN_APPROX_NONE)\n",
    "    sorted_contours = sorted(contours, key=cv2.contourArea, reverse=True)\n",
    "    areas = get_contour_areas(sorted_contours)\n",
    "    blk_image = np.zeros(croped.shape)\n",
    "    if len(areas) > 12:\n",
    "        idx = 12-len(areas)\n",
    "        if np.any(np.array(areas[idx:]) > 100):\n",
    "            print('Disconnetion may exist, please check!')\n",
    "        else:\n",
    "            n = 0\n",
    "            for c in sorted_contours:\n",
    "#                 print(c)\n",
    "                cv2.drawContours(blk_image, c, -1, 170, cv2.FILLED)\n",
    "#                 cv2.drawContours(blk_image,[c],0,(0,255,0),-1)\n",
    "#                 cv2.drawContours(blk_image, c, 0, 170, cv2.FILLED)\n",
    "#                 cv2.waitKey(0)\n",
    "                cv2.imwrite('contour_' + str(n) + '.png', blk_image)\n",
    "                n+=1\n",
    "    elif len(areas) < 12:\n",
    "        print('Only %d trajectory detected, please check!' %len(areas))\n",
    "    print (get_contour_areas(sorted_contours))\n",
    "    print (\"Number of contours found = \", len(contours))"
   ]
  },
  {
   "cell_type": "code",
   "execution_count": 39,
   "id": "e2c09574",
   "metadata": {},
   "outputs": [
    {
     "name": "stdout",
     "output_type": "stream",
     "text": [
      "[8682.5, 8337.5, 8050.0, 7719.0, 7100.0, 6788.5, 6785.0, 6679.5, 6666.5, 6543.5, 6455.5, 5211.5, 13.0, 10.0, 4.0]\n",
      "Number of contours found =  15\n"
     ]
    }
   ],
   "source": [
    "get_trajectory(croped)"
   ]
  },
  {
   "cell_type": "code",
   "execution_count": null,
   "id": "9d1ee076",
   "metadata": {},
   "outputs": [],
   "source": [
    "# 根据生成的标准图片eva_area和输入图片计算该选中的area下的"
   ]
  },
  {
   "cell_type": "code",
   "execution_count": 15,
   "id": "36f753e8",
   "metadata": {},
   "outputs": [
    {
     "data": {
      "text/plain": [
       "True"
      ]
     },
     "execution_count": 15,
     "metadata": {},
     "output_type": "execute_result"
    }
   ],
   "source": [
    "\n"
   ]
  },
  {
   "cell_type": "code",
   "execution_count": 40,
   "id": "5cf0ac11",
   "metadata": {},
   "outputs": [
    {
     "data": {
      "text/plain": [
       "True"
      ]
     },
     "execution_count": 40,
     "metadata": {},
     "output_type": "execute_result"
    }
   ],
   "source": [
    "# 这里是随便截取一下打印提取的图片 看能不能用来跟上面的eva area重合一下\n",
    "# height, w = th3.shape\n",
    "l,u = 100, 450\n",
    "h = 1000\n",
    "w = int(h/63*116)\n",
    "croped = th3[u:u+h, l:l+w]\n",
    "croped = np.round((cv2.resize(croped, (1160, 630)))/255.).astype(int)*255\n",
    "# print(croped)\n",
    "o1 = eva_area(croped,num=1, loc=3, thick=10).astype(int)\n",
    "np.unique(o1)\n",
    "cv2.imwrite('o1.bmp', o1)\n",
    "cv2.imwrite('croped.bmp', croped)\n",
    "added_image = cv2.addWeighted(croped,0.4,o1,0.3,0)\n",
    "cv2.imwrite('overlay.bmp', added_image)"
   ]
  },
  {
   "cell_type": "code",
   "execution_count": 41,
   "id": "9eb111da",
   "metadata": {},
   "outputs": [
    {
     "data": {
      "text/plain": [
       "array([  0, 255])"
      ]
     },
     "execution_count": 41,
     "metadata": {},
     "output_type": "execute_result"
    }
   ],
   "source": [
    "np.unique(croped)"
   ]
  },
  {
   "cell_type": "code",
   "execution_count": null,
   "id": "95496d5a",
   "metadata": {},
   "outputs": [],
   "source": []
  },
  {
   "cell_type": "code",
   "execution_count": null,
   "id": "07fe6ab1",
   "metadata": {},
   "outputs": [],
   "source": []
  },
  {
   "cell_type": "code",
   "execution_count": null,
   "id": "ed157693",
   "metadata": {},
   "outputs": [],
   "source": []
  },
  {
   "cell_type": "code",
   "execution_count": null,
   "id": "d5698613",
   "metadata": {},
   "outputs": [],
   "source": []
  },
  {
   "cell_type": "code",
   "execution_count": 46,
   "id": "434c0b84",
   "metadata": {},
   "outputs": [
    {
     "name": "stdout",
     "output_type": "stream",
     "text": [
      "0.0\n",
      "0.0\n",
      "0.0\n",
      "0.0\n",
      "0.0\n",
      "0.0\n",
      "0.0\n",
      "0.0\n",
      "0.0\n",
      "0.0\n",
      "0.0\n",
      "0.0\n",
      "0.0\n",
      "0.0\n",
      "1.0\n",
      "15.5\n",
      "1.5\n",
      "0.0\n",
      "0.0\n",
      "0.0\n",
      "0.0\n",
      "0.0\n",
      "0.0\n",
      "0.5\n",
      "0.0\n",
      "0.0\n",
      "3.0\n",
      "8.5\n",
      "14.5\n",
      "0.0\n",
      "8.5\n",
      "0.0\n",
      "0.0\n",
      "0.0\n",
      "0.0\n",
      "0.0\n",
      "0.0\n",
      "5.0\n",
      "5.0\n",
      "0.0\n",
      "10.5\n",
      "0.0\n",
      "0.0\n",
      "0.0\n",
      "0.0\n",
      "0.0\n",
      "0.0\n",
      "0.5\n",
      "0.0\n",
      "0.0\n",
      "0.0\n",
      "33.0\n",
      "0.0\n",
      "0.0\n",
      "0.0\n",
      "0.0\n",
      "0.0\n",
      "0.0\n",
      "0.0\n",
      "0.0\n",
      "0.0\n",
      "0.0\n",
      "0.0\n",
      "46.0\n",
      "0.0\n",
      "11.5\n",
      "11.0\n",
      "0.0\n",
      "24.0\n",
      "35.5\n",
      "0.0\n",
      "16.0\n",
      "40.0\n",
      "0.0\n",
      "0.0\n",
      "0.0\n",
      "0.0\n",
      "3.5\n",
      "3.5\n",
      "2.0\n",
      "0.0\n",
      "0.0\n",
      "32.0\n",
      "0.0\n",
      "0.0\n",
      "0.0\n",
      "0.0\n",
      "23.0\n",
      "14.5\n",
      "0.0\n",
      "80.0\n",
      "0.0\n",
      "0.0\n",
      "6.0\n",
      "1.0\n",
      "0.0\n",
      "0.0\n",
      "0.0\n",
      "45.0\n",
      "110.0\n",
      "0.0\n",
      "0.0\n",
      "48.5\n",
      "33.0\n",
      "25.0\n",
      "22.5\n",
      "107.0\n",
      "35.0\n",
      "0.0\n",
      "0.0\n",
      "0.0\n",
      "0.0\n",
      "0.0\n",
      "7.0\n",
      "2.0\n",
      "0.0\n",
      "0.0\n",
      "30.0\n",
      "74.0\n",
      "0.0\n",
      "40.0\n",
      "8.5\n",
      "0.5\n",
      "0.0\n",
      "0.0\n",
      "61.0\n",
      "0.0\n",
      "95.5\n",
      "39.0\n",
      "0.0\n",
      "0.0\n",
      "0.0\n",
      "0.0\n",
      "0.0\n",
      "0.0\n",
      "0.0\n",
      "0.0\n",
      "41.0\n",
      "0.0\n",
      "74.5\n",
      "0.0\n",
      "16.5\n",
      "0.0\n",
      "0.0\n",
      "0.0\n",
      "58.0\n",
      "0.0\n",
      "2.5\n",
      "0.0\n",
      "0.0\n",
      "0.0\n",
      "2.5\n",
      "0.0\n",
      "69.0\n",
      "0.0\n",
      "0.0\n",
      "0.0\n",
      "0.0\n",
      "1.0\n",
      "0.0\n",
      "71.0\n",
      "55.5\n",
      "0.0\n",
      "3.0\n",
      "0.0\n",
      "0.0\n",
      "0.0\n",
      "48.0\n",
      "0.0\n",
      "0.0\n",
      "84.0\n",
      "97.0\n",
      "0.0\n",
      "33.0\n",
      "0.0\n",
      "2.5\n",
      "82.0\n",
      "107.0\n",
      "0.0\n",
      "0.0\n",
      "14.5\n",
      "10.0\n",
      "0.0\n",
      "68.0\n",
      "47.0\n",
      "0.0\n",
      "0.0\n",
      "0.0\n",
      "0.0\n",
      "0.0\n",
      "0.0\n",
      "0.0\n",
      "157.0\n",
      "0.0\n",
      "0.0\n",
      "0.0\n",
      "0.0\n",
      "0.0\n",
      "14.0\n",
      "33.0\n",
      "32.5\n",
      "0.0\n",
      "2.0\n",
      "0.0\n",
      "0.0\n",
      "0.0\n",
      "0.0\n",
      "0.0\n",
      "0.0\n",
      "0.0\n",
      "0.0\n",
      "0.0\n",
      "0.0\n",
      "12.5\n",
      "0.0\n",
      "0.0\n",
      "0.0\n",
      "0.0\n",
      "0.0\n",
      "24.0\n",
      "0.0\n",
      "6.0\n",
      "0.0\n",
      "205.5\n",
      "81.0\n",
      "111.5\n",
      "0.0\n",
      "74.0\n",
      "83.5\n",
      "0.0\n",
      "290.0\n",
      "0.0\n",
      "206.0\n",
      "191.5\n",
      "0.0\n",
      "86.0\n",
      "0.0\n",
      "6.0\n",
      "0.0\n",
      "0.0\n",
      "263.0\n",
      "25.0\n",
      "0.0\n",
      "0.0\n",
      "0.0\n",
      "97.0\n",
      "0.0\n",
      "1.0\n",
      "171.0\n",
      "17.0\n",
      "0.0\n",
      "0.0\n",
      "0.0\n",
      "2.0\n",
      "31.0\n",
      "0.0\n",
      "37.0\n",
      "0.0\n",
      "0.0\n",
      "0.0\n",
      "0.0\n",
      "0.0\n",
      "0.0\n",
      "21.0\n",
      "66.0\n",
      "0.0\n",
      "3.5\n",
      "1.5\n",
      "0.0\n",
      "0.0\n",
      "0.0\n",
      "0.0\n",
      "0.0\n",
      "6.0\n",
      "0.0\n",
      "0.0\n",
      "317.5\n",
      "37.0\n",
      "0.0\n",
      "54.5\n",
      "0.0\n",
      "0.0\n",
      "50.5\n",
      "1.0\n",
      "157.0\n",
      "0.0\n",
      "18.0\n",
      "12.0\n",
      "8.0\n",
      "13.0\n",
      "0.0\n",
      "0.0\n",
      "152.0\n",
      "0.0\n",
      "71.5\n",
      "16.5\n",
      "0.0\n",
      "10.0\n",
      "0.0\n",
      "107.5\n",
      "0.0\n",
      "0.0\n",
      "0.0\n",
      "24.0\n",
      "0.0\n",
      "0.0\n",
      "11.0\n",
      "1.0\n",
      "0.0\n",
      "0.0\n",
      "0.0\n",
      "0.0\n",
      "7.5\n",
      "0.0\n",
      "0.0\n",
      "0.0\n",
      "4.0\n",
      "2.0\n",
      "6.0\n",
      "4.0\n",
      "0.0\n",
      "0.0\n",
      "0.0\n",
      "11.0\n",
      "0.0\n",
      "0.0\n",
      "6.5\n",
      "124.0\n",
      "0.0\n",
      "0.0\n",
      "0.0\n",
      "0.0\n",
      "14.0\n",
      "82.0\n",
      "2.5\n",
      "9.5\n",
      "3.0\n",
      "12.0\n",
      "5.5\n",
      "0.0\n",
      "0.0\n",
      "17.5\n",
      "1.0\n",
      "0.0\n",
      "0.0\n",
      "0.0\n",
      "1.0\n",
      "0.0\n",
      "0.5\n",
      "12.0\n",
      "12.0\n",
      "0.0\n",
      "0.0\n",
      "0.0\n",
      "0.0\n",
      "13.0\n",
      "0.0\n",
      "0.0\n",
      "0.0\n",
      "12.0\n",
      "0.0\n",
      "0.0\n",
      "1.0\n",
      "5.0\n",
      "0.0\n",
      "0.0\n",
      "0.0\n",
      "0.0\n",
      "0.0\n",
      "0.0\n",
      "16.0\n",
      "2.0\n",
      "0.0\n",
      "22.0\n",
      "0.0\n",
      "0.0\n",
      "0.0\n",
      "0.0\n",
      "5.0\n",
      "25.5\n",
      "8.0\n",
      "25.0\n",
      "0.0\n",
      "0.0\n",
      "0.0\n",
      "8.5\n",
      "0.0\n",
      "21.0\n",
      "0.0\n",
      "6.0\n",
      "0.0\n",
      "0.0\n",
      "1.0\n",
      "0.0\n",
      "0.0\n",
      "0.0\n",
      "5.0\n",
      "0.0\n",
      "6.0\n",
      "15.5\n",
      "0.0\n",
      "37.0\n",
      "0.0\n",
      "0.0\n",
      "0.0\n",
      "24.5\n",
      "29.5\n",
      "0.0\n",
      "42.0\n",
      "31.5\n",
      "0.0\n",
      "0.0\n",
      "12.0\n",
      "0.0\n",
      "0.0\n",
      "28.0\n",
      "14.0\n",
      "20.0\n",
      "13.5\n",
      "10.5\n",
      "0.0\n",
      "0.0\n",
      "0.0\n",
      "1.5\n",
      "0.0\n",
      "2.0\n",
      "0.0\n",
      "0.0\n",
      "0.0\n",
      "0.0\n",
      "2.0\n",
      "4.0\n",
      "0.0\n",
      "0.0\n",
      "0.0\n",
      "0.0\n",
      "0.0\n",
      "1.0\n",
      "0.5\n",
      "1.0\n",
      "0.0\n",
      "8.5\n",
      "0.0\n",
      "8.0\n",
      "0.0\n",
      "0.0\n",
      "0.0\n",
      "3.5\n",
      "1.0\n",
      "0.0\n",
      "0.0\n",
      "0.0\n",
      "3.0\n",
      "5.5\n",
      "0.0\n",
      "0.0\n",
      "5.0\n",
      "0.0\n",
      "0.0\n",
      "0.0\n",
      "1.0\n",
      "1.0\n",
      "10.5\n",
      "3.5\n",
      "0.0\n",
      "3.0\n",
      "0.0\n",
      "0.0\n",
      "0.0\n",
      "4.0\n",
      "0.0\n",
      "0.0\n",
      "0.0\n",
      "4.0\n",
      "0.0\n",
      "0.0\n",
      "0.0\n",
      "0.0\n",
      "0.0\n",
      "0.0\n",
      "0.0\n",
      "18.0\n",
      "5.0\n",
      "0.0\n",
      "0.0\n",
      "1.5\n",
      "6.5\n",
      "0.0\n",
      "0.0\n",
      "13.5\n",
      "0.0\n",
      "0.0\n",
      "0.0\n",
      "0.0\n",
      "3.5\n",
      "0.0\n",
      "0.0\n",
      "21.5\n",
      "0.0\n",
      "0.0\n",
      "0.0\n",
      "0.0\n",
      "13.5\n",
      "0.0\n",
      "0.0\n",
      "0.0\n",
      "8.0\n",
      "10.5\n",
      "0.0\n",
      "0.0\n",
      "0.0\n",
      "20.0\n",
      "11.5\n",
      "0.0\n",
      "4.5\n",
      "0.0\n",
      "0.0\n",
      "21.5\n",
      "0.0\n",
      "0.0\n",
      "0.0\n",
      "0.0\n",
      "28.0\n",
      "0.0\n",
      "0.0\n",
      "0.0\n",
      "0.0\n",
      "0.0\n",
      "0.0\n",
      "0.0\n",
      "1.0\n",
      "0.0\n",
      "0.0\n",
      "0.0\n",
      "0.0\n",
      "0.0\n",
      "0.0\n",
      "0.0\n",
      "0.0\n",
      "0.0\n",
      "0.0\n",
      "0.0\n",
      "1.0\n",
      "7.5\n",
      "66.5\n",
      "0.0\n",
      "0.0\n"
     ]
    },
    {
     "data": {
      "text/plain": [
       "True"
      ]
     },
     "execution_count": 46,
     "metadata": {},
     "output_type": "execute_result"
    }
   ],
   "source": [
    "image = cv2.imread('d3d10597-e629-4f08-853b-75472ae0de06.bmp',0)\n",
    "kernel = np.ones((5,5), np.uint8)\n",
    "ret,thresh1 = cv2.threshold(image, 70, 255, cv2.THRESH_BINARY_INV)\n",
    "# Closing - for removing noise\n",
    "# blur = cv2.GaussianBlur(image, (5,5), 0)\n",
    "# _, th3 = cv2.threshold(blur, 0, 255, cv2.THRESH_BINARY_INV + cv2.THRESH_OTSU)\n",
    "closing = cv2.morphologyEx(thresh1, cv2.MORPH_CLOSE, kernel)\n",
    "cv2.imwrite('Closing.bmp', closing)\n",
    "\n",
    "skel = Skeletonization(closing)\n",
    "cv2.imwrite('Closingskel.bmp', skel)\n",
    "\n",
    "contours, hierarchy = cv2.findContours(skel, cv2.RETR_TREE, cv2.CHAIN_APPROX_SIMPLE)\n",
    "threshold_blobs_area = 0\n",
    "\n",
    "for i in range(1, len(contours)):\n",
    "    index_level = int(hierarchy[0][i][1])\n",
    "    if index_level <= i:\n",
    "        cnt = contours[i]\n",
    "        area = cv2.contourArea(cnt)\n",
    "        print(area)\n",
    "        if area <= threshold_blobs_area:\n",
    "            cv2.drawContours(skel, [cnt], -1, 0, -1, 1)\n",
    "cv2.imwrite('removednoiseClosingskel.bmp', skel)"
   ]
  },
  {
   "cell_type": "code",
   "execution_count": 12,
   "id": "56d404fb",
   "metadata": {},
   "outputs": [
    {
     "data": {
      "text/plain": [
       "True"
      ]
     },
     "execution_count": 12,
     "metadata": {},
     "output_type": "execute_result"
    }
   ],
   "source": [
    "img = cv2.imread('d3d10597-e629-4f08-853b-75472ae0de06.bmp',0)\n",
    "img = cv2.medianBlur(img,5)\n",
    "th3 = cv2.adaptiveThreshold(img,255,cv2.ADAPTIVE_THRESH_GAUSSIAN_C, cv2.THRESH_BINARY,11,2)\n",
    "cv2.imwrite(\"ADAPTIVE_THRESH_GAUSSIAN Thresholding.bmp\", th3) "
   ]
  },
  {
   "cell_type": "code",
   "execution_count": 32,
   "id": "259336bf",
   "metadata": {},
   "outputs": [
    {
     "data": {
      "text/plain": [
       "True"
      ]
     },
     "execution_count": 32,
     "metadata": {},
     "output_type": "execute_result"
    }
   ],
   "source": [
    "image = cv2.imread('Threshold Binary70.bmp',0)\n",
    "# It's good practice to blur images as it removes noise\n",
    "image = cv2.GaussianBlur(image, (3, 3), 0)\n",
    "\n",
    "# Using adaptiveThreshold\n",
    "thresh = cv2.adaptiveThreshold(image, 255, cv2.ADAPTIVE_THRESH_MEAN_C, \n",
    "                               cv2.THRESH_BINARY, 3, 5) \n",
    "cv2.imwrite(\"Adaptive Mean Thresholding.bmp\", thresh) \n",
    "# cv2.waitKey(0) \n",
    "\n",
    "_, th2 = cv2.threshold(image, 0, 255, cv2.THRESH_BINARY + cv2.THRESH_OTSU)\n",
    "cv2.imwrite(\"Otsu's Thresholding.bmp\", th2) \n",
    "# cv2.waitKey(0) \n",
    "\n",
    "# Otsu's thresholding after Gaussian filtering\n",
    "blur = cv2.GaussianBlur(image, (5,5), 0)\n",
    "_, th3 = cv2.threshold(blur, 0, 255, cv2.THRESH_BINARY + cv2.THRESH_OTSU)\n",
    "cv2.imwrite(\"Guassian Otsu's Thresholding.bmp\", th3) \n",
    "\n",
    "# th3 = cv.adaptiveThreshold(image,255,cv2.ADAPTIVE_THRESH_GAUSSIAN_C, cv.THRESH_BINARY,11,2)\n",
    "# cv2.waitKey(0) "
   ]
  },
  {
   "cell_type": "code",
   "execution_count": 12,
   "id": "419cf21d",
   "metadata": {},
   "outputs": [
    {
     "data": {
      "text/plain": [
       "True"
      ]
     },
     "execution_count": 12,
     "metadata": {},
     "output_type": "execute_result"
    }
   ],
   "source": [
    "img = cv2.imread('Threshold Binary70.bmp',0)\n",
    "\n",
    "size = np.size(img)\n",
    "skel = np.zeros(img.shape,np.uint8)\n",
    "\n",
    "ret,img = cv2.threshold(img,127,255,cv2.THRESH_BINARY_INV)\n",
    "# cv2.imwrite('test.bmp', img)\n",
    "# img = cv2.Canny(img, 300, 120)\n",
    "element = cv2.getStructuringElement(cv2.MORPH_CROSS,(3,3))\n",
    "done = False\n",
    "\n",
    "while( not done):\n",
    "    eroded = cv2.erode(img,element)\n",
    "    temp = cv2.dilate(eroded,element)\n",
    "    temp = cv2.subtract(img,temp)\n",
    "    skel = cv2.bitwise_or(skel,temp)\n",
    "    img = eroded.copy()\n",
    "\n",
    "    zeros = size - cv2.countNonZero(img)\n",
    "    if zeros==size:\n",
    "        done = True\n",
    "\n",
    "cv2.imwrite('skel.bmp', skel)\n",
    "# cv2.imshow(\"skel\",skel)\n",
    "# cv2.waitKey(0)\n",
    "# cv2.destroyAllWindows()"
   ]
  },
  {
   "cell_type": "code",
   "execution_count": 8,
   "id": "06a7bd66",
   "metadata": {},
   "outputs": [],
   "source": [
    "import cv2\n",
    "import numpy as np\n",
    "\n",
    "img = cv2.imread('out1.bmp',0)\n",
    "size = np.size(img)\n",
    "skel = np.zeros(img.shape,np.uint8)\n",
    "\n",
    "ret,img = cv2.threshold(img,127,255,0)\n",
    "element = cv2.getStructuringElement(cv2.MORPH_CROSS,(3,3))\n",
    "done = False\n",
    "\n",
    "while( not done):\n",
    "    eroded = cv2.erode(img,element)\n",
    "    temp = cv2.dilate(eroded,element)\n",
    "    temp = cv2.subtract(img,temp)\n",
    "    skel = cv2.bitwise_or(skel,temp)\n",
    "    img = eroded.copy()\n",
    "\n",
    "    zeros = size - cv2.countNonZero(img)\n",
    "    if zeros==size:\n",
    "        done = True\n",
    "\n",
    "cv2.imshow(\"skel\",skel)\n",
    "cv2.waitKey(0)\n",
    "cv2.destroyAllWindows()"
   ]
  },
  {
   "cell_type": "code",
   "execution_count": null,
   "id": "c49d54cd",
   "metadata": {},
   "outputs": [],
   "source": []
  }
 ],
 "metadata": {
  "kernelspec": {
   "display_name": "Python 3 (ipykernel)",
   "language": "python",
   "name": "python3"
  },
  "language_info": {
   "codemirror_mode": {
    "name": "ipython",
    "version": 3
   },
   "file_extension": ".py",
   "mimetype": "text/x-python",
   "name": "python",
   "nbconvert_exporter": "python",
   "pygments_lexer": "ipython3",
   "version": "3.9.12"
  }
 },
 "nbformat": 4,
 "nbformat_minor": 5
}
